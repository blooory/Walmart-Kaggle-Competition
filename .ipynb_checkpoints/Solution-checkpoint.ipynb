{
 "cells": [
  {
   "cell_type": "code",
   "execution_count": 1,
   "metadata": {
    "collapsed": false
   },
   "outputs": [],
   "source": [
    "import pandas as pd\n",
    "import numpy as np\n",
    "import scipy\n",
    "from sklearn.feature_extraction.text import TfidfTransformer\n",
    "from sklearn.feature_extraction.text import CountVectorizer\n",
    "from sklearn.cross_validation import StratifiedShuffleSplit\n",
    "from matplotlib import rc\n",
    "\n",
    "\n",
    "font = {'family': 'Droid Sans'}\n",
    "rc('font', **font)"
   ]
  },
  {
   "cell_type": "code",
   "execution_count": 2,
   "metadata": {
    "collapsed": false
   },
   "outputs": [],
   "source": [
    "tr = pd.read_csv('./Data/train.csv')\n",
    "te = pd.read_csv('./Data/test.csv')\n",
    "# will not make features for the smallest class with ~5 elements\n",
    "tr = tr[tr.TripType != 14]"
   ]
  },
  {
   "cell_type": "code",
   "execution_count": 3,
   "metadata": {
    "collapsed": false
   },
   "outputs": [],
   "source": [
    "visits = tr.drop_duplicates('VisitNumber')[['VisitNumber', 'TripType']]\n",
    "a = StratifiedShuffleSplit(visits['TripType'], n_iter = 1, test_size =0.3, random_state = 2222)\n",
    "tr, te = (tr[tr.VisitNumber.isin(visits.iloc[list(a)[0][0]]['VisitNumber'])],\n",
    "          tr[tr.VisitNumber.isin(visits.iloc[list(a)[0][1]]['VisitNumber'])])"
   ]
  },
  {
   "cell_type": "markdown",
   "metadata": {},
   "source": [
    "# TF-IDF features"
   ]
  },
  {
   "cell_type": "code",
   "execution_count": 4,
   "metadata": {
    "collapsed": false
   },
   "outputs": [],
   "source": [
    "feature = 'FinelineNumber'\n",
    "# feature = 'DepartmentDescription'\n",
    "# feature = 'Upc'\n",
    "counts = tr[feature].append(te[feature]).value_counts()"
   ]
  },
  {
   "cell_type": "code",
   "execution_count": 5,
   "metadata": {
    "collapsed": false
   },
   "outputs": [],
   "source": [
    "restriction = set(tr[feature].unique()).intersection(set(te[feature].unique()))"
   ]
  },
  {
   "cell_type": "code",
   "execution_count": 6,
   "metadata": {
    "collapsed": false
   },
   "outputs": [],
   "source": [
    "count_thr = 1\n",
    "def foo(x,feature):\n",
    "    l = ''\n",
    "    for t, row in x.iterrows():\n",
    "        l += (str(row[feature]).replace(' ','').replace(',','') + ' ') * row['ScanCount'] \n",
    "    return l\n",
    "sentences_tr = tr[(tr[feature].isin(counts[counts>count_thr].index)) & \n",
    "                 (tr[feature].isin(restriction))].groupby('VisitNumber').apply(lambda x: foo(x, feature))\n",
    "sentences_te = te[(te[feature].isin(counts[counts>count_thr].index)) &\n",
    "                 (te[feature].isin(restriction))].groupby('VisitNumber').apply(lambda x: foo(x, feature))\n",
    "temp_tr = tr[(tr[feature].isin(counts[counts>count_thr].index)) & \n",
    "                 (tr[feature].isin(restriction))].drop_duplicates('VisitNumber').reset_index(drop=True)\n",
    "temp_te = te[(te[feature].isin(counts[counts>count_thr].index)) &\n",
    "                 (te[feature].isin(restriction))].drop_duplicates('VisitNumber').reset_index(drop=True)"
   ]
  },
  {
   "cell_type": "code",
   "execution_count": 7,
   "metadata": {
    "collapsed": false
   },
   "outputs": [],
   "source": [
    "tt = TfidfTransformer()\n",
    "cv = CountVectorizer()\n",
    "cv.fit(sentences_tr.append(sentences_te))\n",
    "counts_tr = cv.transform(sentences_tr)\n",
    "counts_te = cv.transform(sentences_te)\n",
    "counts_all = cv.transform(sentences_tr.append(sentences_te))\n",
    "tt.fit(counts_all)\n",
    "tfidf_tr = tt.transform(counts_tr)\n",
    "tfidf_te = tt.transform(counts_te)"
   ]
  },
  {
   "cell_type": "markdown",
   "metadata": {},
   "source": [
    "# Stratified k-fold nearest neighbours with tf-idf features"
   ]
  },
  {
   "cell_type": "code",
   "execution_count": 8,
   "metadata": {
    "collapsed": false
   },
   "outputs": [
    {
     "name": "stderr",
     "output_type": "stream",
     "text": [
      "/opt/conda/Anaconda3/lib/python3.4/site-packages/sklearn/cross_validation.py:516: Warning: The least populated class in y has only 3 members, which is too few. The minimum number of labels for any class cannot be less than n_folds=4.\n",
      "  % (min_labels, self.n_folds)), Warning)\n",
      "/opt/conda/Anaconda3/lib/python3.4/site-packages/pandas/core/frame.py:1997: UserWarning: Boolean Series key will be reindexed to match DataFrame index.\n",
      "  \"DataFrame index.\", UserWarning)\n"
     ]
    }
   ],
   "source": [
    "from sklearn.cross_validation import StratifiedKFold\n",
    "from sklearn.neighbors import NearestNeighbors\n",
    "nn_folds = StratifiedKFold(temp_tr['TripType'], n_folds=4, shuffle=True, random_state=406)\n",
    "nn = NearestNeighbors(4, metric = 'cosine', algorithm = 'brute')\n",
    "features_tr = temp_tr['VisitNumber'].to_frame().copy()\n",
    "features_te = temp_te['VisitNumber'].to_frame().copy()\n",
    "for train_index, test_index in nn_folds:\n",
    "    for i in sorted(temp_tr.TripType.unique()):\n",
    "        if i != 14:\n",
    "            nn.fit(tfidf_tr[temp_tr.loc[train_index][temp_tr.TripType == i].index])\n",
    "            features_tr.loc[test_index, feature + '_distance_to_' + str(i)] = np.mean(nn.kneighbors(tfidf_tr[test_index])[0][:, 2:5], axis = 1)\n",
    "        else:\n",
    "            nn = NearestNeighbors(2, metric = 'cosine', algorithm = 'brute')\n",
    "            nn.fit(tfidf_tr[temp_tr.loc[train_index][temp_tr.TripType == i].index])\n",
    "            features_tr.loc[test_index, feature + '_distance_to_' + str(i)] = nn.kneighbors(tfidf_tr[test_index])[0][:, 1]\n",
    "            nn = NearestNeighbors(4, metric = 'cosine', algorithm = 'brute')\n",
    "            \n",
    "for i in sorted(temp_tr.TripType.unique()):\n",
    "    nn.fit(tfidf_tr[temp_tr[temp_tr.TripType == i].index])\n",
    "    if i == 14:\n",
    "        nn = NearestNeighbors(3, metric = 'cosine', algorithm = 'brute')\n",
    "        nn.fit(tfidf_tr[temp_tr[temp_tr.TripType == i].index])\n",
    "        features_te.loc[:, feature + '_distance_to_' + str(i)] = nn.kneighbors(tfidf_te)[0][:, 1]\n",
    "        nn = NearestNeighbors(4, metric = 'cosine', algorithm = 'brute')\n",
    "    else:\n",
    "        features_te.loc[:, feature + '_distance_to_' + str(i)] = np.mean(nn.kneighbors(tfidf_te)[0][:, 2:5], axis = 1)"
   ]
  },
  {
   "cell_type": "code",
   "execution_count": null,
   "metadata": {
    "collapsed": true
   },
   "outputs": [],
   "source": [
    "# Compare feature in train and test\n",
    "(features_tr.mean() - features_te.mean()).iloc[1:].describe()"
   ]
  },
  {
   "cell_type": "markdown",
   "metadata": {},
   "source": [
    "# Make nice picture with distances"
   ]
  },
  {
   "cell_type": "code",
   "execution_count": 11,
   "metadata": {
    "collapsed": false,
    "scrolled": true
   },
   "outputs": [],
   "source": [
    "# Расчет расстояний для картинки\n",
    "l = list()\n",
    "for j in sorted(temp_tr.TripType.unique()):\n",
    "    if j != 14:\n",
    "        nn = NearestNeighbors(4, metric = 'cosine', algorithm = 'brute')\n",
    "        nn.fit(tfidf_tr[temp_tr[temp_tr.TripType == j].index])\n",
    "        qq = nn.kneighbors(tfidf_te)[0]\n",
    "        temp = list()\n",
    "\n",
    "        for i in sorted(temp_tr.TripType.unique()):\n",
    "            if i != 14:\n",
    "                temp.append(np.mean(qq[:, 3:5][temp_te[temp_te.TripType == i].index]))\n",
    "        l.append(temp)"
   ]
  },
  {
   "cell_type": "code",
   "execution_count": 12,
   "metadata": {
    "collapsed": true
   },
   "outputs": [],
   "source": [
    "%matplotlib inline"
   ]
  },
  {
   "cell_type": "code",
   "execution_count": 13,
   "metadata": {
    "collapsed": false
   },
   "outputs": [
    {
     "data": {
      "image/png": "[encoded data removed]",
      "text/plain": [
       "<matplotlib.figure.Figure at 0x7fc96ef7ecc0>"
      ]
     },
     "metadata": {},
     "output_type": "display_data"
    }
   ],
   "source": [
    "# Thanks Stackoverflow\n",
    "from matplotlib.ticker import MaxNLocator\n",
    "import matplotlib.pyplot as plt\n",
    "fig, ax  = plt.subplots(figsize=(14,13))\n",
    "x = np.array(list(range(1,39)))*1.021\n",
    "y = np.array(list(range(1,39)))*1.021\n",
    "x, y = np.meshgrid(x, y)\n",
    "l = np.array(l)\n",
    "plt.xlim([0, 41])\n",
    "plt.ylim([0, 41])\n",
    "plt.pcolormesh(x, y, l, cmap = 'viridis')\n",
    "plt.colorbar() \n",
    "ax.xaxis.set_major_locator(MaxNLocator(41))\n",
    "ax.yaxis.set_major_locator(MaxNLocator(41))\n",
    "plt.ylabel('Класс из обучающей выборки')\n",
    "plt.xlabel('Класс из валидационной выборки')\n",
    "ax.set_xticklabels([0]+sorted(temp_tr.TripType.unique()))\n",
    "ax.set_yticklabels([0]+sorted(temp_tr.TripType.unique()))\n",
    "plt.show() #boom"
   ]
  },
  {
   "cell_type": "markdown",
   "metadata": {},
   "source": [
    "Back-up features"
   ]
  },
  {
   "cell_type": "code",
   "execution_count": 9,
   "metadata": {
    "collapsed": true
   },
   "outputs": [],
   "source": [
    "features_tr.to_pickle('./Data/tfidif_tr_val')\n",
    "features_te.to_pickle('./Data/tfidif_te_val')"
   ]
  },
  {
   "cell_type": "code",
   "execution_count": 7,
   "metadata": {
    "collapsed": false
   },
   "outputs": [],
   "source": [
    "features_tr = pd.read_pickle('./Data/tfidif_tr_val')\n",
    "features_te = pd.read_pickle('./Data/tfidif_te_val')"
   ]
  },
  {
   "cell_type": "markdown",
   "metadata": {},
   "source": [
    "# Some scikit learn interface classifier features\n",
    "Not optimal, but works well for me"
   ]
  },
  {
   "cell_type": "code",
   "execution_count": 21,
   "metadata": {
    "collapsed": false
   },
   "outputs": [
    {
     "name": "stdout",
     "output_type": "stream",
     "text": [
      "Iteration 1, validation loss - 1.6071302374981655, train loss 1.6123224103832878\n",
      "Iteration 2, validation loss - 1.6027233747474854, train loss 1.603007188913984\n",
      "Iteration 3, validation loss - 1.6080150362155963, train loss 1.6465023085871688\n",
      "Iteration 4, validation loss - 1.6064407283975186, train loss 1.6189416683148155\n",
      "Iteration 5, validation loss - 1.6053827743666846, train loss 1.6435493641741055\n",
      "Iteration 6, validation loss - 1.6050867669953894, train loss 1.591081239408098\n",
      "Iteration 7, validation loss - 1.6103098271666045, train loss 1.6237653294400807\n",
      "Iteration 8, validation loss - 1.606346368815508, train loss 1.616896307740524\n",
      "Iteration 9, validation loss - 1.6034838440629056, train loss 1.5956936405754683\n",
      "Final validation loss 1.7439213099818915\n"
     ]
    },
    {
     "name": "stderr",
     "output_type": "stream",
     "text": [
      "/opt/conda/Anaconda3/lib/python3.4/site-packages/pandas/core/indexing.py:117: SettingWithCopyWarning: \n",
      "A value is trying to be set on a copy of a slice from a DataFrame\n",
      "\n",
      "See the caveats in the documentation: http://pandas.pydata.org/pandas-docs/stable/indexing.html#indexing-view-versus-copy\n",
      "  self._setitem_with_indexer(indexer, value)\n"
     ]
    }
   ],
   "source": [
    "# Для риджа нужны тф-идф фичи и файлы с номерами походов в магазины\n",
    "from sklearn.linear_model import RidgeClassifier\n",
    "from sklearn.preprocessing import StandardScaler\n",
    "from sklearn.cross_validation import StratifiedKFold\n",
    "from sklearn.metrics import log_loss\n",
    "from sklearn.linear_model import SGDClassifier\n",
    "num_folds = 9\n",
    "\n",
    "nn_ridge = StratifiedKFold(temp_tr['TripType'], n_folds=num_folds, shuffle=True, random_state=406)\n",
    "# rr = RidgeClassifier(alpha=1., fit_intercept=True, \n",
    "#                       normalize=True, \n",
    "#                       copy_X=True, max_iter=None, \n",
    "#                       tol=0.00001, class_weight=None, solver='auto')\n",
    "rr = SGDClassifier(loss='log', \n",
    "                   penalty='l2', \n",
    "                   alpha=0.000001, \n",
    "                   l1_ratio=0.15,\n",
    "                   fit_intercept=True, \n",
    "                   n_iter=50, \n",
    "                   shuffle=True, \n",
    "                   verbose=0, \n",
    "                   epsilon=0.1, \n",
    "                   n_jobs=-1, \n",
    "                   random_state=None, \n",
    "                   learning_rate='optimal', \n",
    "                   eta0=0.0, \n",
    "                   power_t=0.5, \n",
    "                   class_weight=None, \n",
    "                   warm_start=False, \n",
    "                   average=True)\n",
    "features_ridge = ['Ridge_'+str(x) for x in sorted(tr.TripType.unique())]\n",
    "for i in features_ridge:\n",
    "    temp_tr.loc[:, i] = 0\n",
    "    temp_te.loc[:, i] = 0\n",
    "qq = 1\n",
    "for train_index, test_index in nn_ridge:\n",
    "    rr.fit(tfidf_tr[train_index],temp_tr.iloc[train_index]['TripType'])\n",
    "    d = rr.decision_function(tfidf_tr[test_index])\n",
    "    probs_train = np.exp(d) / (1 + np.exp(d))\n",
    "    for i in range(len(features_ridge)):\n",
    "        temp_tr.loc[:, features_ridge[i]].iloc[test_index] = probs_train[:,i]\n",
    "    d = rr.decision_function(tfidf_te)\n",
    "    probs = np.exp(d) / (1 + np.exp(d))\n",
    "    temp_te.loc[:, features_ridge] += probs\n",
    "    print('Iteration {0}, validation loss - {1}, train loss {2}'.format(qq,\n",
    "                                                                        log_loss(temp_te['TripType'], probs),\n",
    "                                                                        log_loss(temp_tr.iloc[test_index]['TripType'], probs_train)))\n",
    "    qq += 1\n",
    "\n",
    "print('Final validation loss {0}'.format(log_loss(temp_te['TripType'], temp_te.loc[:, features_ridge].as_matrix() )))\n",
    "features_ridge_tr = temp_tr[features_ridge+['VisitNumber']].copy()\n",
    "features_ridge_te = temp_te[features_ridge+['VisitNumber']].copy()\n",
    "\n",
    "cols_ridge = list(features_ridge_tr.columns)\n",
    "cols_ridge.remove('VisitNumber')\n",
    "qq = np.sum(features_ridge_tr[cols_ridge].as_matrix(),axis = 1)\n",
    "features_ridge_tr.loc[:,cols_ridge] = features_ridge_tr[cols_ridge].apply(lambda x: x/qq, axis = 0)\n",
    "qq = np.sum(features_ridge_te[cols_ridge].as_matrix(),axis = 1)\n",
    "features_ridge_te.loc[:,cols_ridge] = features_ridge_te[cols_ridge].apply(lambda x: x/qq, axis = 0)"
   ]
  },
  {
   "cell_type": "markdown",
   "metadata": {},
   "source": [
    "# KNN classifier features. \n",
    "different cell, from what was above, because of memory problems in scikit learn KNN"
   ]
  },
  {
   "cell_type": "code",
   "execution_count": 67,
   "metadata": {
    "collapsed": true
   },
   "outputs": [],
   "source": [
    "import xgboost as xgb\n",
    "from sklearn.cross_validation import StratifiedKFold"
   ]
  },
  {
   "cell_type": "code",
   "execution_count": 68,
   "metadata": {
    "collapsed": true
   },
   "outputs": [],
   "source": [
    "rr = xgb.XGBClassifier(max_depth=130, \n",
    "                       learning_rate=0.5, \n",
    "                       n_estimators=5, \n",
    "                       silent=True, \n",
    "                       objective='multi:softprob', \n",
    "                       nthread=-1, \n",
    "                       gamma=0, \n",
    "                       min_child_weight=1, \n",
    "                       max_delta_step=0, \n",
    "                       subsample=1, \n",
    "                       colsample_bytree=0.8, \n",
    "                       base_score=0.027, \n",
    "                       seed=0, missing=None)"
   ]
  },
  {
   "cell_type": "code",
   "execution_count": 9,
   "metadata": {
    "collapsed": false
   },
   "outputs": [],
   "source": [
    "tfidf_te = tfidf_te.todense()\n",
    "tfidf_tr = tfidf_tr.todense()"
   ]
  },
  {
   "cell_type": "code",
   "execution_count": 10,
   "metadata": {
    "collapsed": false
   },
   "outputs": [
    {
     "name": "stdout",
     "output_type": "stream",
     "text": [
      "Fold 1\n",
      "Fold 2\n",
      "Fold 3\n",
      "Fold 4\n",
      "Fold 5\n",
      "Fold 6\n",
      "Fold 7\n",
      "CPU times: user 5min 49s, sys: 3min 41s, total: 9min 30s\n",
      "Wall time: 9min 30s\n"
     ]
    },
    {
     "name": "stderr",
     "output_type": "stream",
     "text": [
      "/opt/conda/Anaconda3/lib/python3.4/site-packages/pandas/core/indexing.py:117: SettingWithCopyWarning: \n",
      "A value is trying to be set on a copy of a slice from a DataFrame\n",
      "\n",
      "See the caveats in the documentation: http://pandas.pydata.org/pandas-docs/stable/indexing.html#indexing-view-versus-copy\n",
      "  self._setitem_with_indexer(indexer, value)\n"
     ]
    }
   ],
   "source": [
    "%%time\n",
    "from sklearn.neighbors import KNeighborsClassifier\n",
    "from sklearn.cross_validation import StratifiedKFold\n",
    "import xgboost as xgb\n",
    "\n",
    "num_folds = 7\n",
    "num_nn = 2\n",
    "num_test_parts = 10\n",
    "\n",
    "nn_ridge = StratifiedKFold(temp_tr['TripType'], n_folds=num_folds, shuffle=True, random_state=406)\n",
    "# rr = KNeighborsClassifier(n_neighbors=num_nn, \n",
    "#                                        algorithm='brute', \n",
    "#                                        metric='cosine', n_jobs=-1)\n",
    "features_knn = ['KNN_'+str(x) for x in sorted(tr.TripType.unique())]\n",
    "# Создаю столбцы\n",
    "for i in features_knn:\n",
    "    temp_tr.loc[:, i] = 0\n",
    "    temp_te.loc[:, i] = 0\n",
    "\n",
    "qq = 1\n",
    "for train_index, test_index in nn_ridge:\n",
    "    print('Fold {0}'.format(qq))\n",
    "    qq += 1\n",
    "    rr.fit(tfidf_tr[train_index],temp_tr.iloc[train_index]['TripType'])\n",
    "    d = rr.predict_proba(tfidf_tr[test_index])\n",
    "    # Очередной тупняк пандаса, который не хочет присваивать сразу набору столбцов значение, поэтому цикл\n",
    "    for i in range(len(features_knn)):\n",
    "        temp_tr.loc[:, features_knn[i]].iloc[test_index] = d[:,i]\n",
    "    # Почему-то кнн не хочет предсказывать для большого теста результат. Разделю тест на n частей\n",
    "    batch_size = int(tfidf_te.shape[0]/num_test_parts)\n",
    "    for i in range(num_test_parts):\n",
    "        if i!=(num_test_parts-1):\n",
    "            ind = range(batch_size*i, batch_size*(i+1))\n",
    "        else: ind = range(batch_size*i, tfidf_te.shape[0])\n",
    "        d = rr.predict_proba(tfidf_te[ind])\n",
    "        for i in range(len(features_knn)):\n",
    "            temp_te.loc[:, features_knn[i]].iloc[ind] += d[:,i]\n",
    "\n",
    "features_knn_tr = temp_tr[features_knn+['VisitNumber']].copy()\n",
    "features_knn_te = temp_te[features_knn+['VisitNumber']].copy()\n",
    "cols_knn= list(features_knn_tr.columns)\n",
    "cols_knn.remove('VisitNumber')\n",
    "qq = np.sum(features_knn_tr[cols_knn].as_matrix(),axis = 1)\n",
    "features_knn_tr.loc[:,cols_knn] = features_knn_tr[cols_knn].apply(lambda x: x/qq, axis = 0)\n",
    "qq = np.sum(features_knn_te[cols_knn].as_matrix(),axis = 1)\n",
    "features_knn_te.loc[:,cols_knn] = features_knn_te[cols_knn].apply(lambda x: x/qq, axis = 0)"
   ]
  },
  {
   "cell_type": "code",
   "execution_count": 15,
   "metadata": {
    "collapsed": false
   },
   "outputs": [
    {
     "data": {
      "text/plain": [
       "(20985, 5323)"
      ]
     },
     "execution_count": 15,
     "metadata": {},
     "output_type": "execute_result"
    }
   ],
   "source": [
    "tfidf_te.shape"
   ]
  },
  {
   "cell_type": "markdown",
   "metadata": {},
   "source": [
    "## Back-up some features"
   ]
  },
  {
   "cell_type": "code",
   "execution_count": 10,
   "metadata": {
    "collapsed": false
   },
   "outputs": [],
   "source": [
    "features_ridge_tr.to_pickle('ridge_features_tr_val_9')\n",
    "features_ridge_te.to_pickle('ridge_features_te_val_9')"
   ]
  },
  {
   "cell_type": "code",
   "execution_count": 71,
   "metadata": {
    "collapsed": true
   },
   "outputs": [],
   "source": [
    "features_ridge_tr.to_pickle('ridge_features_tr_val_9_depdesk')\n",
    "features_ridge_te.to_pickle('ridge_features_te_val_9_depdesk')"
   ]
  },
  {
   "cell_type": "code",
   "execution_count": 79,
   "metadata": {
    "collapsed": true
   },
   "outputs": [],
   "source": [
    "features_ridge_tr.to_pickle('ridge_features_tr_val_9_upc')\n",
    "features_ridge_te.to_pickle('ridge_features_te_val_9_upc')"
   ]
  },
  {
   "cell_type": "code",
   "execution_count": 43,
   "metadata": {
    "collapsed": true
   },
   "outputs": [],
   "source": [
    "features_knn_tr.to_pickle('knn_features_tr_val_7_25n')\n",
    "features_knn_te.to_pickle('knn_features_te_val_7_25n')"
   ]
  },
  {
   "cell_type": "code",
   "execution_count": 84,
   "metadata": {
    "collapsed": true
   },
   "outputs": [],
   "source": [
    "features_ridge_tr = pd.read_pickle('ridge_features_tr_val_9')\n",
    "features_ridge_te = pd.read_pickle('ridge_features_te_val_9')"
   ]
  },
  {
   "cell_type": "code",
   "execution_count": 11,
   "metadata": {
    "collapsed": true
   },
   "outputs": [],
   "source": [
    "features_knn_tr = pd.read_pickle('knn_features_tr_val_9_20n')\n",
    "features_knn_te = pd.read_pickle('knn_features_te_val_9_20n')"
   ]
  },
  {
   "cell_type": "code",
   "execution_count": 87,
   "metadata": {
    "collapsed": true
   },
   "outputs": [],
   "source": [
    "features_ridge_tr = pd.read_pickle('ridge_features_tr_val_9_depdesk')\n",
    "features_ridge_te = pd.read_pickle('ridge_features_te_val_9_depdesk')"
   ]
  },
  {
   "cell_type": "code",
   "execution_count": 89,
   "metadata": {
    "collapsed": true
   },
   "outputs": [],
   "source": [
    "features_ridge_tr = pd.read_pickle('ridge_features_tr_val_9_upc')\n",
    "features_ridge_te = pd.read_pickle('ridge_features_te_val_9_upc')"
   ]
  },
  {
   "cell_type": "code",
   "execution_count": 40,
   "metadata": {
    "collapsed": false
   },
   "outputs": [
    {
     "ename": "NameError",
     "evalue": "name 'features_tr' is not defined",
     "output_type": "error",
     "traceback": [
      "\u001b[1;31m---------------------------------------------------------------------------\u001b[0m",
      "\u001b[1;31mNameError\u001b[0m                                 Traceback (most recent call last)",
      "\u001b[1;32m<ipython-input-40-d5ef848caf90>\u001b[0m in \u001b[0;36m<module>\u001b[1;34m()\u001b[0m\n\u001b[1;32m----> 1\u001b[1;33m \u001b[0mfeatures_tr\u001b[0m\u001b[1;33m.\u001b[0m\u001b[0mto_pickle\u001b[0m\u001b[1;33m(\u001b[0m\u001b[1;34m'distance_features_tr_val_35n'\u001b[0m\u001b[1;33m)\u001b[0m\u001b[1;33m\u001b[0m\u001b[0m\n\u001b[0m\u001b[0;32m      2\u001b[0m \u001b[0mfeatures_te\u001b[0m\u001b[1;33m.\u001b[0m\u001b[0mto_pickle\u001b[0m\u001b[1;33m(\u001b[0m\u001b[1;34m'distance_features_te_val_25n'\u001b[0m\u001b[1;33m)\u001b[0m\u001b[1;33m\u001b[0m\u001b[0m\n",
      "\u001b[1;31mNameError\u001b[0m: name 'features_tr' is not defined"
     ]
    }
   ],
   "source": [
    "features_tr.to_pickle('distance_features_tr_val_35n')\n",
    "features_te.to_pickle('distance_features_te_val_25n')"
   ]
  },
  {
   "cell_type": "code",
   "execution_count": 22,
   "metadata": {
    "collapsed": true
   },
   "outputs": [],
   "source": [
    "features_tr= pd.read_pickle('distance_features_tr_val_35n')\n",
    "features_te=pd.read_pickle('distance_features_te_val_25n')"
   ]
  },
  {
   "cell_type": "markdown",
   "metadata": {},
   "source": [
    "# Read data from pickle"
   ]
  },
  {
   "cell_type": "code",
   "execution_count": 9,
   "metadata": {
    "collapsed": true
   },
   "outputs": [],
   "source": [
    "# Для паблика\n",
    "tr = pd.read_pickle('./Data/tr_aggregates')\n",
    "te = pd.read_pickle('./Data/te_aggregates')"
   ]
  },
  {
   "cell_type": "code",
   "execution_count": 23,
   "metadata": {
    "collapsed": false
   },
   "outputs": [],
   "source": [
    "# Вытаскиваем из трейна валидацию\n",
    "train = pd.read_pickle('./Data/tr_aggregates')\n",
    "tr, te = (train[train.VisitNumber.isin(visits.iloc[list(a)[0][0]]['VisitNumber'])],\n",
    "          train[train.VisitNumber.isin(visits.iloc[list(a)[0][1]]['VisitNumber'])])"
   ]
  },
  {
   "cell_type": "code",
   "execution_count": 15,
   "metadata": {
    "collapsed": false
   },
   "outputs": [],
   "source": [
    "tr = tr.merge(features_tr, how = 'left', on = 'VisitNumber').fillna(1)\n",
    "te = te.merge(features_te, how = 'left', on = 'VisitNumber').fillna(1)\n",
    "# tr = tr.merge(features_knn_tr, how = 'left', on = 'VisitNumber').fillna(0)\n",
    "# te = te.merge(features_knn_te, how = 'left', on = 'VisitNumber').fillna(0)\n",
    "tr = tr.merge(features_ridge_tr, how = 'left', on = 'VisitNumber').fillna(0)\n",
    "te = te.merge(features_ridge_te, how = 'left', on = 'VisitNumber').fillna(0)"
   ]
  },
  {
   "cell_type": "code",
   "execution_count": 24,
   "metadata": {
    "collapsed": true
   },
   "outputs": [],
   "source": [
    "# 3 набора фичей риджа\n",
    "features_ridge_tr = pd.read_pickle('ridge_features_tr_val_9')\n",
    "features_ridge_te = pd.read_pickle('ridge_features_te_val_9')\n",
    "tr = tr.merge(features_ridge_tr, how = 'left', on = 'VisitNumber').fillna(0)\n",
    "te = te.merge(features_ridge_te, how = 'left', on = 'VisitNumber').fillna(0)\n",
    "features_ridge_tr = pd.read_pickle('ridge_features_tr_val_9_depdesk')\n",
    "features_ridge_te = pd.read_pickle('ridge_features_te_val_9_depdesk')\n",
    "tr = tr.merge(features_ridge_tr, how = 'left', on = 'VisitNumber').fillna(0)\n",
    "te = te.merge(features_ridge_te, how = 'left', on = 'VisitNumber').fillna(0)\n",
    "features_ridge_tr = pd.read_pickle('ridge_features_tr_val_9_upc')\n",
    "features_ridge_te = pd.read_pickle('ridge_features_te_val_9_upc')\n",
    "tr = tr.merge(features_ridge_tr, how = 'left', on = 'VisitNumber').fillna(0)\n",
    "te = te.merge(features_ridge_te, how = 'left', on = 'VisitNumber').fillna(0)"
   ]
  },
  {
   "cell_type": "code",
   "execution_count": 74,
   "metadata": {
    "collapsed": false
   },
   "outputs": [
    {
     "data": {
      "text/plain": [
       "<66863x75 sparse matrix of type '<class 'numpy.float64'>'\n",
       "\twith 241615 stored elements in Compressed Sparse Row format>"
      ]
     },
     "execution_count": 74,
     "metadata": {},
     "output_type": "execute_result"
    }
   ],
   "source": [
    "tfidf_tr"
   ]
  },
  {
   "cell_type": "code",
   "execution_count": 98,
   "metadata": {
    "collapsed": false
   },
   "outputs": [],
   "source": [
    "tr.to_pickle('./Data/best_set_tr_val')\n",
    "te.to_pickle('./Data/best_set_te_val')"
   ]
  },
  {
   "cell_type": "code",
   "execution_count": 83,
   "metadata": {
    "collapsed": true
   },
   "outputs": [],
   "source": [
    "tr = pd.read_pickle('./Data/best_set_tr_val')\n",
    "te = pd.read_pickle('./Data/best_set_te_val')"
   ]
  },
  {
   "cell_type": "markdown",
   "metadata": {},
   "source": [
    "# XGBoost"
   ]
  },
  {
   "cell_type": "code",
   "execution_count": 25,
   "metadata": {
    "collapsed": false
   },
   "outputs": [],
   "source": [
    "import xgboost as xgb\n",
    "from sklearn.preprocessing import LabelEncoder\n",
    "le = LabelEncoder()\n",
    "le_types = LabelEncoder()\n",
    "le_types.fit(tr['TripType'].append(te['TripType']))\n",
    "tr.loc[:, 'TripType'] = le_types.transform(tr['TripType'])\n",
    "te.loc[:, 'TripType'] = le_types.transform(te['TripType'])"
   ]
  },
  {
   "cell_type": "code",
   "execution_count": 26,
   "metadata": {
    "collapsed": true
   },
   "outputs": [],
   "source": [
    "params = {\"objective\": \"multi:softprob\", \n",
    "          \"eta\": 0.06,\n",
    "          \"max_depth\": 6,\n",
    "          \"subsample\": 0.65,\n",
    "          \"colsample_bytree\": 0.7,\n",
    "          \"silent\": 1,\n",
    "          'min_child_weight': 4,\n",
    "          'num_class':38,\n",
    "          'eval_metric': 'mlogloss',\n",
    "          'nthread':3,\n",
    "          'seed':7742\n",
    "          }\n",
    "ntrees = 400"
   ]
  },
  {
   "cell_type": "code",
   "execution_count": 27,
   "metadata": {
    "collapsed": false
   },
   "outputs": [],
   "source": [
    "dtrain = xgb.DMatrix(tr.drop(labels = ['TripType', 'VisitNumber'], axis = 1), label = tr['TripType'])\n",
    "dvalid = xgb.DMatrix(te.drop(labels = ['TripType', 'VisitNumber'], axis = 1), label = te['TripType'])\n",
    "# dtest = xgb.DMatrix(te.drop(labels = ['VisitNumber'], axis = 1))\n",
    "watchlist = [(dvalid, 'eval'), (dtrain, 'train')]"
   ]
  },
  {
   "cell_type": "code",
   "execution_count": 54,
   "metadata": {
    "collapsed": false,
    "scrolled": true
   },
   "outputs": [
    {
     "name": "stderr",
     "output_type": "stream",
     "text": [
      "[0]\teval-mlogloss:2.999000\ttrain-mlogloss:2.992153\n",
      "[1]\teval-mlogloss:2.701854\ttrain-mlogloss:2.689327\n",
      "[2]\teval-mlogloss:2.482360\ttrain-mlogloss:2.463699\n",
      "[3]\teval-mlogloss:2.312747\ttrain-mlogloss:2.288756\n",
      "[4]\teval-mlogloss:2.173299\ttrain-mlogloss:2.144017\n",
      "[5]\teval-mlogloss:2.055804\ttrain-mlogloss:2.021454\n",
      "[6]\teval-mlogloss:1.952637\ttrain-mlogloss:1.913763\n",
      "[7]\teval-mlogloss:1.861657\ttrain-mlogloss:1.818047\n",
      "[8]\teval-mlogloss:1.781035\ttrain-mlogloss:1.733462\n",
      "[9]\teval-mlogloss:1.707933\ttrain-mlogloss:1.656806\n",
      "[10]\teval-mlogloss:1.641513\ttrain-mlogloss:1.586997\n",
      "[11]\teval-mlogloss:1.580833\ttrain-mlogloss:1.523162\n",
      "[12]\teval-mlogloss:1.525901\ttrain-mlogloss:1.464619\n",
      "[13]\teval-mlogloss:1.475739\ttrain-mlogloss:1.411116\n",
      "[14]\teval-mlogloss:1.429320\ttrain-mlogloss:1.361097\n",
      "[15]\teval-mlogloss:1.385964\ttrain-mlogloss:1.314663\n",
      "[16]\teval-mlogloss:1.345923\ttrain-mlogloss:1.271692\n",
      "[17]\teval-mlogloss:1.307962\ttrain-mlogloss:1.230779\n",
      "[18]\teval-mlogloss:1.272931\ttrain-mlogloss:1.193126\n",
      "[19]\teval-mlogloss:1.240448\ttrain-mlogloss:1.157889\n",
      "[20]\teval-mlogloss:1.209806\ttrain-mlogloss:1.124601\n",
      "[21]\teval-mlogloss:1.180689\ttrain-mlogloss:1.092929\n",
      "[22]\teval-mlogloss:1.153426\ttrain-mlogloss:1.063407\n",
      "[23]\teval-mlogloss:1.128046\ttrain-mlogloss:1.035690\n",
      "[24]\teval-mlogloss:1.104079\ttrain-mlogloss:1.009448\n",
      "[25]\teval-mlogloss:1.081544\ttrain-mlogloss:0.984564\n",
      "[26]\teval-mlogloss:1.060530\ttrain-mlogloss:0.961148\n",
      "[27]\teval-mlogloss:1.040341\ttrain-mlogloss:0.938734\n",
      "[28]\teval-mlogloss:1.021364\ttrain-mlogloss:0.917498\n",
      "[29]\teval-mlogloss:1.003659\ttrain-mlogloss:0.897564\n",
      "[30]\teval-mlogloss:0.986557\ttrain-mlogloss:0.878612\n",
      "[31]\teval-mlogloss:0.970446\ttrain-mlogloss:0.860523\n",
      "[32]\teval-mlogloss:0.955347\ttrain-mlogloss:0.843308\n",
      "[33]\teval-mlogloss:0.941030\ttrain-mlogloss:0.826889\n",
      "[34]\teval-mlogloss:0.927411\ttrain-mlogloss:0.810965\n",
      "[35]\teval-mlogloss:0.914197\ttrain-mlogloss:0.795828\n",
      "[36]\teval-mlogloss:0.901823\ttrain-mlogloss:0.781400\n",
      "[37]\teval-mlogloss:0.890182\ttrain-mlogloss:0.767866\n",
      "[38]\teval-mlogloss:0.879197\ttrain-mlogloss:0.755029\n",
      "[39]\teval-mlogloss:0.868577\ttrain-mlogloss:0.742576\n",
      "[40]\teval-mlogloss:0.858537\ttrain-mlogloss:0.730747\n",
      "[41]\teval-mlogloss:0.848933\ttrain-mlogloss:0.719327\n",
      "[42]\teval-mlogloss:0.839922\ttrain-mlogloss:0.708404\n",
      "[43]\teval-mlogloss:0.831180\ttrain-mlogloss:0.697816\n",
      "[44]\teval-mlogloss:0.822877\ttrain-mlogloss:0.687808\n",
      "[45]\teval-mlogloss:0.814972\ttrain-mlogloss:0.678237\n",
      "[46]\teval-mlogloss:0.807519\ttrain-mlogloss:0.669054\n",
      "[47]\teval-mlogloss:0.800359\ttrain-mlogloss:0.660181\n",
      "[48]\teval-mlogloss:0.793411\ttrain-mlogloss:0.651425\n",
      "[49]\teval-mlogloss:0.786736\ttrain-mlogloss:0.643052\n",
      "[50]\teval-mlogloss:0.780528\ttrain-mlogloss:0.634967\n",
      "[51]\teval-mlogloss:0.774554\ttrain-mlogloss:0.627280\n",
      "[52]\teval-mlogloss:0.768716\ttrain-mlogloss:0.619675\n",
      "[53]\teval-mlogloss:0.763430\ttrain-mlogloss:0.612422\n",
      "[54]\teval-mlogloss:0.758051\ttrain-mlogloss:0.605305\n",
      "[55]\teval-mlogloss:0.752987\ttrain-mlogloss:0.598399\n",
      "[56]\teval-mlogloss:0.748100\ttrain-mlogloss:0.592069\n",
      "[57]\teval-mlogloss:0.743326\ttrain-mlogloss:0.585813\n",
      "[58]\teval-mlogloss:0.739003\ttrain-mlogloss:0.579816\n",
      "[59]\teval-mlogloss:0.734742\ttrain-mlogloss:0.573913\n",
      "[60]\teval-mlogloss:0.730726\ttrain-mlogloss:0.568382\n",
      "[61]\teval-mlogloss:0.726771\ttrain-mlogloss:0.562912\n",
      "[62]\teval-mlogloss:0.723015\ttrain-mlogloss:0.557550\n",
      "[63]\teval-mlogloss:0.719410\ttrain-mlogloss:0.552504\n",
      "[64]\teval-mlogloss:0.716078\ttrain-mlogloss:0.547647\n",
      "[65]\teval-mlogloss:0.712654\ttrain-mlogloss:0.542789\n",
      "[66]\teval-mlogloss:0.709450\ttrain-mlogloss:0.538244\n",
      "[67]\teval-mlogloss:0.706362\ttrain-mlogloss:0.533714\n",
      "[68]\teval-mlogloss:0.703544\ttrain-mlogloss:0.529365\n",
      "[69]\teval-mlogloss:0.700632\ttrain-mlogloss:0.525310\n",
      "[70]\teval-mlogloss:0.697861\ttrain-mlogloss:0.521179\n",
      "[71]\teval-mlogloss:0.695279\ttrain-mlogloss:0.517240\n",
      "[72]\teval-mlogloss:0.692734\ttrain-mlogloss:0.513196\n",
      "[73]\teval-mlogloss:0.690334\ttrain-mlogloss:0.509322\n",
      "[74]\teval-mlogloss:0.687935\ttrain-mlogloss:0.505453\n",
      "[75]\teval-mlogloss:0.685541\ttrain-mlogloss:0.501817\n",
      "[76]\teval-mlogloss:0.683327\ttrain-mlogloss:0.498321\n",
      "[77]\teval-mlogloss:0.681110\ttrain-mlogloss:0.494745\n",
      "[78]\teval-mlogloss:0.679027\ttrain-mlogloss:0.491354\n",
      "[79]\teval-mlogloss:0.677001\ttrain-mlogloss:0.488125\n",
      "[80]\teval-mlogloss:0.675103\ttrain-mlogloss:0.484867\n",
      "[81]\teval-mlogloss:0.673168\ttrain-mlogloss:0.481500\n",
      "[82]\teval-mlogloss:0.671325\ttrain-mlogloss:0.478346\n",
      "[83]\teval-mlogloss:0.669671\ttrain-mlogloss:0.475282\n",
      "[84]\teval-mlogloss:0.668042\ttrain-mlogloss:0.472458\n",
      "[85]\teval-mlogloss:0.666445\ttrain-mlogloss:0.469530\n",
      "[86]\teval-mlogloss:0.664915\ttrain-mlogloss:0.466707\n",
      "[87]\teval-mlogloss:0.663447\ttrain-mlogloss:0.463877\n",
      "[88]\teval-mlogloss:0.662023\ttrain-mlogloss:0.461278\n",
      "[89]\teval-mlogloss:0.660643\ttrain-mlogloss:0.458689\n",
      "[90]\teval-mlogloss:0.659246\ttrain-mlogloss:0.455988\n",
      "[91]\teval-mlogloss:0.657843\ttrain-mlogloss:0.453329\n",
      "[92]\teval-mlogloss:0.656655\ttrain-mlogloss:0.450922\n",
      "[93]\teval-mlogloss:0.655525\ttrain-mlogloss:0.448511\n",
      "[94]\teval-mlogloss:0.654383\ttrain-mlogloss:0.446205\n",
      "[95]\teval-mlogloss:0.653211\ttrain-mlogloss:0.443774\n",
      "[96]\teval-mlogloss:0.652077\ttrain-mlogloss:0.441466\n",
      "[97]\teval-mlogloss:0.650944\ttrain-mlogloss:0.439081\n",
      "[98]\teval-mlogloss:0.649936\ttrain-mlogloss:0.436780\n",
      "[99]\teval-mlogloss:0.648930\ttrain-mlogloss:0.434496\n",
      "[100]\teval-mlogloss:0.647852\ttrain-mlogloss:0.432276\n",
      "[101]\teval-mlogloss:0.646907\ttrain-mlogloss:0.430018\n",
      "[102]\teval-mlogloss:0.645821\ttrain-mlogloss:0.427825\n",
      "[103]\teval-mlogloss:0.644949\ttrain-mlogloss:0.425841\n",
      "[104]\teval-mlogloss:0.644089\ttrain-mlogloss:0.423774\n",
      "[105]\teval-mlogloss:0.643180\ttrain-mlogloss:0.421719\n",
      "[106]\teval-mlogloss:0.642366\ttrain-mlogloss:0.419639\n",
      "[107]\teval-mlogloss:0.641658\ttrain-mlogloss:0.417626\n",
      "[108]\teval-mlogloss:0.640871\ttrain-mlogloss:0.415694\n",
      "[109]\teval-mlogloss:0.640082\ttrain-mlogloss:0.413727\n",
      "[110]\teval-mlogloss:0.639330\ttrain-mlogloss:0.411909\n",
      "[111]\teval-mlogloss:0.638606\ttrain-mlogloss:0.410076\n",
      "[112]\teval-mlogloss:0.637877\ttrain-mlogloss:0.408250\n",
      "[113]\teval-mlogloss:0.637224\ttrain-mlogloss:0.406287\n",
      "[114]\teval-mlogloss:0.636581\ttrain-mlogloss:0.404384\n",
      "[115]\teval-mlogloss:0.635896\ttrain-mlogloss:0.402523\n",
      "[116]\teval-mlogloss:0.635122\ttrain-mlogloss:0.400568\n",
      "[117]\teval-mlogloss:0.634503\ttrain-mlogloss:0.398887\n",
      "[118]\teval-mlogloss:0.633906\ttrain-mlogloss:0.397131\n",
      "[119]\teval-mlogloss:0.633337\ttrain-mlogloss:0.395353\n",
      "[120]\teval-mlogloss:0.632765\ttrain-mlogloss:0.393679\n",
      "[121]\teval-mlogloss:0.632163\ttrain-mlogloss:0.392064\n",
      "[122]\teval-mlogloss:0.631519\ttrain-mlogloss:0.390438\n",
      "[123]\teval-mlogloss:0.630976\ttrain-mlogloss:0.388783\n",
      "[124]\teval-mlogloss:0.630428\ttrain-mlogloss:0.387355\n",
      "[125]\teval-mlogloss:0.629892\ttrain-mlogloss:0.385647\n",
      "[126]\teval-mlogloss:0.629447\ttrain-mlogloss:0.384046\n",
      "[127]\teval-mlogloss:0.628867\ttrain-mlogloss:0.382544\n",
      "[128]\teval-mlogloss:0.628444\ttrain-mlogloss:0.381052\n",
      "[129]\teval-mlogloss:0.628008\ttrain-mlogloss:0.379562\n",
      "[130]\teval-mlogloss:0.627457\ttrain-mlogloss:0.378132\n",
      "[131]\teval-mlogloss:0.627098\ttrain-mlogloss:0.376667\n",
      "[132]\teval-mlogloss:0.626744\ttrain-mlogloss:0.375202\n",
      "[133]\teval-mlogloss:0.626266\ttrain-mlogloss:0.373661\n",
      "[134]\teval-mlogloss:0.625858\ttrain-mlogloss:0.372296\n",
      "[135]\teval-mlogloss:0.625561\ttrain-mlogloss:0.370853\n",
      "[136]\teval-mlogloss:0.625077\ttrain-mlogloss:0.369247\n",
      "[137]\teval-mlogloss:0.624673\ttrain-mlogloss:0.367959\n",
      "[138]\teval-mlogloss:0.624149\ttrain-mlogloss:0.366465\n",
      "[139]\teval-mlogloss:0.623806\ttrain-mlogloss:0.365015\n",
      "[140]\teval-mlogloss:0.623456\ttrain-mlogloss:0.363596\n",
      "[141]\teval-mlogloss:0.623162\ttrain-mlogloss:0.362222\n",
      "[142]\teval-mlogloss:0.622834\ttrain-mlogloss:0.360788\n",
      "[143]\teval-mlogloss:0.622438\ttrain-mlogloss:0.359469\n",
      "[144]\teval-mlogloss:0.622088\ttrain-mlogloss:0.358316\n",
      "[145]\teval-mlogloss:0.621757\ttrain-mlogloss:0.356997\n",
      "[146]\teval-mlogloss:0.621491\ttrain-mlogloss:0.355670\n",
      "[147]\teval-mlogloss:0.621187\ttrain-mlogloss:0.354275\n",
      "[148]\teval-mlogloss:0.620888\ttrain-mlogloss:0.352987\n",
      "[149]\teval-mlogloss:0.620713\ttrain-mlogloss:0.351850\n",
      "[150]\teval-mlogloss:0.620473\ttrain-mlogloss:0.350633\n",
      "[151]\teval-mlogloss:0.620129\ttrain-mlogloss:0.349293\n",
      "[152]\teval-mlogloss:0.619861\ttrain-mlogloss:0.348095\n",
      "[153]\teval-mlogloss:0.619622\ttrain-mlogloss:0.346719\n",
      "[154]\teval-mlogloss:0.619349\ttrain-mlogloss:0.345366\n",
      "[155]\teval-mlogloss:0.619105\ttrain-mlogloss:0.344158\n",
      "[156]\teval-mlogloss:0.618883\ttrain-mlogloss:0.342969\n",
      "[157]\teval-mlogloss:0.618662\ttrain-mlogloss:0.341746\n",
      "[158]\teval-mlogloss:0.618435\ttrain-mlogloss:0.340634\n",
      "[159]\teval-mlogloss:0.618250\ttrain-mlogloss:0.339587\n",
      "[160]\teval-mlogloss:0.618005\ttrain-mlogloss:0.338312\n",
      "[161]\teval-mlogloss:0.617834\ttrain-mlogloss:0.337280\n",
      "[162]\teval-mlogloss:0.617657\ttrain-mlogloss:0.335964\n",
      "[163]\teval-mlogloss:0.617310\ttrain-mlogloss:0.334830\n",
      "[164]\teval-mlogloss:0.617141\ttrain-mlogloss:0.333653\n",
      "[165]\teval-mlogloss:0.616949\ttrain-mlogloss:0.332405\n",
      "[166]\teval-mlogloss:0.616726\ttrain-mlogloss:0.331407\n",
      "[167]\teval-mlogloss:0.616567\ttrain-mlogloss:0.330295\n",
      "[168]\teval-mlogloss:0.616399\ttrain-mlogloss:0.329058\n",
      "[169]\teval-mlogloss:0.616248\ttrain-mlogloss:0.328124\n",
      "[170]\teval-mlogloss:0.616044\ttrain-mlogloss:0.327087\n",
      "[171]\teval-mlogloss:0.615825\ttrain-mlogloss:0.325818\n",
      "[172]\teval-mlogloss:0.615727\ttrain-mlogloss:0.324778\n",
      "[173]\teval-mlogloss:0.615523\ttrain-mlogloss:0.323690\n",
      "[174]\teval-mlogloss:0.615418\ttrain-mlogloss:0.322734\n",
      "[175]\teval-mlogloss:0.615256\ttrain-mlogloss:0.321540\n",
      "[176]\teval-mlogloss:0.615081\ttrain-mlogloss:0.320431\n",
      "[177]\teval-mlogloss:0.614927\ttrain-mlogloss:0.319451\n",
      "[178]\teval-mlogloss:0.614799\ttrain-mlogloss:0.318404\n",
      "[179]\teval-mlogloss:0.614674\ttrain-mlogloss:0.317311\n",
      "[180]\teval-mlogloss:0.614466\ttrain-mlogloss:0.316237\n",
      "[181]\teval-mlogloss:0.614341\ttrain-mlogloss:0.315152\n",
      "[182]\teval-mlogloss:0.614193\ttrain-mlogloss:0.314175\n",
      "[183]\teval-mlogloss:0.614028\ttrain-mlogloss:0.313164\n",
      "[184]\teval-mlogloss:0.613885\ttrain-mlogloss:0.312141\n",
      "[185]\teval-mlogloss:0.613788\ttrain-mlogloss:0.311225\n",
      "[186]\teval-mlogloss:0.613665\ttrain-mlogloss:0.310137\n",
      "[187]\teval-mlogloss:0.613476\ttrain-mlogloss:0.309006\n",
      "[188]\teval-mlogloss:0.613320\ttrain-mlogloss:0.307954\n",
      "[189]\teval-mlogloss:0.613295\ttrain-mlogloss:0.306860\n",
      "[190]\teval-mlogloss:0.613205\ttrain-mlogloss:0.305941\n",
      "[191]\teval-mlogloss:0.613108\ttrain-mlogloss:0.305075\n",
      "[192]\teval-mlogloss:0.612969\ttrain-mlogloss:0.304144\n",
      "[193]\teval-mlogloss:0.612896\ttrain-mlogloss:0.303258\n",
      "[194]\teval-mlogloss:0.612845\ttrain-mlogloss:0.302308\n",
      "[195]\teval-mlogloss:0.612717\ttrain-mlogloss:0.301362\n",
      "[196]\teval-mlogloss:0.612605\ttrain-mlogloss:0.300364\n",
      "[197]\teval-mlogloss:0.612589\ttrain-mlogloss:0.299471\n",
      "[198]\teval-mlogloss:0.612489\ttrain-mlogloss:0.298596\n",
      "[199]\teval-mlogloss:0.612377\ttrain-mlogloss:0.297509\n",
      "[200]\teval-mlogloss:0.612290\ttrain-mlogloss:0.296624\n",
      "[201]\teval-mlogloss:0.612185\ttrain-mlogloss:0.295697\n",
      "[202]\teval-mlogloss:0.611993\ttrain-mlogloss:0.294652\n",
      "[203]\teval-mlogloss:0.611919\ttrain-mlogloss:0.293822\n",
      "[204]\teval-mlogloss:0.611791\ttrain-mlogloss:0.292933\n",
      "[205]\teval-mlogloss:0.611709\ttrain-mlogloss:0.291953\n",
      "[206]\teval-mlogloss:0.611584\ttrain-mlogloss:0.291005\n",
      "[207]\teval-mlogloss:0.611479\ttrain-mlogloss:0.290139\n",
      "[208]\teval-mlogloss:0.611436\ttrain-mlogloss:0.289234\n",
      "[209]\teval-mlogloss:0.611381\ttrain-mlogloss:0.288403\n",
      "[210]\teval-mlogloss:0.611253\ttrain-mlogloss:0.287540\n",
      "[211]\teval-mlogloss:0.611189\ttrain-mlogloss:0.286630\n",
      "[212]\teval-mlogloss:0.611133\ttrain-mlogloss:0.285659\n",
      "[213]\teval-mlogloss:0.610975\ttrain-mlogloss:0.284692\n",
      "[214]\teval-mlogloss:0.610898\ttrain-mlogloss:0.283988\n",
      "[215]\teval-mlogloss:0.610811\ttrain-mlogloss:0.283120\n",
      "[216]\teval-mlogloss:0.610705\ttrain-mlogloss:0.282216\n",
      "[217]\teval-mlogloss:0.610564\ttrain-mlogloss:0.281353\n",
      "[218]\teval-mlogloss:0.610495\ttrain-mlogloss:0.280402\n",
      "[219]\teval-mlogloss:0.610441\ttrain-mlogloss:0.279502\n",
      "[220]\teval-mlogloss:0.610420\ttrain-mlogloss:0.278661\n",
      "[221]\teval-mlogloss:0.610359\ttrain-mlogloss:0.277810\n",
      "[222]\teval-mlogloss:0.610363\ttrain-mlogloss:0.276871\n",
      "[223]\teval-mlogloss:0.610367\ttrain-mlogloss:0.276124\n",
      "[224]\teval-mlogloss:0.610341\ttrain-mlogloss:0.275399\n",
      "[225]\teval-mlogloss:0.610222\ttrain-mlogloss:0.274499\n",
      "[226]\teval-mlogloss:0.610039\ttrain-mlogloss:0.273750\n",
      "[227]\teval-mlogloss:0.609977\ttrain-mlogloss:0.272979\n",
      "[228]\teval-mlogloss:0.609910\ttrain-mlogloss:0.272132\n",
      "[229]\teval-mlogloss:0.609893\ttrain-mlogloss:0.271337\n",
      "[230]\teval-mlogloss:0.609824\ttrain-mlogloss:0.270643\n",
      "[231]\teval-mlogloss:0.609700\ttrain-mlogloss:0.269796\n",
      "[232]\teval-mlogloss:0.609663\ttrain-mlogloss:0.269032\n",
      "[233]\teval-mlogloss:0.609617\ttrain-mlogloss:0.268171\n",
      "[234]\teval-mlogloss:0.609552\ttrain-mlogloss:0.267550\n",
      "[235]\teval-mlogloss:0.609456\ttrain-mlogloss:0.266748\n",
      "[236]\teval-mlogloss:0.609467\ttrain-mlogloss:0.265913\n",
      "[237]\teval-mlogloss:0.609407\ttrain-mlogloss:0.265159\n",
      "[238]\teval-mlogloss:0.609369\ttrain-mlogloss:0.264377\n",
      "[239]\teval-mlogloss:0.609311\ttrain-mlogloss:0.263600\n",
      "[240]\teval-mlogloss:0.609268\ttrain-mlogloss:0.262865\n",
      "[241]\teval-mlogloss:0.609233\ttrain-mlogloss:0.262046\n",
      "[242]\teval-mlogloss:0.609144\ttrain-mlogloss:0.261222\n",
      "[243]\teval-mlogloss:0.609046\ttrain-mlogloss:0.260358\n",
      "[244]\teval-mlogloss:0.608977\ttrain-mlogloss:0.259614\n",
      "[245]\teval-mlogloss:0.608910\ttrain-mlogloss:0.258834\n",
      "[246]\teval-mlogloss:0.608877\ttrain-mlogloss:0.258046\n",
      "[247]\teval-mlogloss:0.608821\ttrain-mlogloss:0.257320\n",
      "[248]\teval-mlogloss:0.608807\ttrain-mlogloss:0.256535\n",
      "[249]\teval-mlogloss:0.608741\ttrain-mlogloss:0.255886\n",
      "[250]\teval-mlogloss:0.608717\ttrain-mlogloss:0.255146\n",
      "[251]\teval-mlogloss:0.608762\ttrain-mlogloss:0.254322\n",
      "[252]\teval-mlogloss:0.608802\ttrain-mlogloss:0.253567\n",
      "[253]\teval-mlogloss:0.608783\ttrain-mlogloss:0.252813\n",
      "[254]\teval-mlogloss:0.608763\ttrain-mlogloss:0.251953\n",
      "[255]\teval-mlogloss:0.608731\ttrain-mlogloss:0.251172\n",
      "[256]\teval-mlogloss:0.608799\ttrain-mlogloss:0.250488\n",
      "[257]\teval-mlogloss:0.608780\ttrain-mlogloss:0.249650\n",
      "[258]\teval-mlogloss:0.608716\ttrain-mlogloss:0.248958\n",
      "[259]\teval-mlogloss:0.608700\ttrain-mlogloss:0.248282\n",
      "[260]\teval-mlogloss:0.608664\ttrain-mlogloss:0.247621\n",
      "[261]\teval-mlogloss:0.608678\ttrain-mlogloss:0.246885\n",
      "[262]\teval-mlogloss:0.608595\ttrain-mlogloss:0.246165\n",
      "[263]\teval-mlogloss:0.608657\ttrain-mlogloss:0.245459\n",
      "[264]\teval-mlogloss:0.608621\ttrain-mlogloss:0.244777\n",
      "[265]\teval-mlogloss:0.608579\ttrain-mlogloss:0.244036\n",
      "[266]\teval-mlogloss:0.608533\ttrain-mlogloss:0.243315\n",
      "[267]\teval-mlogloss:0.608534\ttrain-mlogloss:0.242470\n",
      "[268]\teval-mlogloss:0.608512\ttrain-mlogloss:0.241812\n",
      "[269]\teval-mlogloss:0.608506\ttrain-mlogloss:0.241164\n",
      "[270]\teval-mlogloss:0.608536\ttrain-mlogloss:0.240424\n",
      "[271]\teval-mlogloss:0.608497\ttrain-mlogloss:0.239816\n",
      "[272]\teval-mlogloss:0.608485\ttrain-mlogloss:0.239142\n",
      "[273]\teval-mlogloss:0.608436\ttrain-mlogloss:0.238416\n",
      "[274]\teval-mlogloss:0.608515\ttrain-mlogloss:0.237845\n",
      "[275]\teval-mlogloss:0.608509\ttrain-mlogloss:0.237214\n",
      "[276]\teval-mlogloss:0.608507\ttrain-mlogloss:0.236579\n",
      "[277]\teval-mlogloss:0.608473\ttrain-mlogloss:0.235937\n",
      "[278]\teval-mlogloss:0.608497\ttrain-mlogloss:0.235249\n",
      "[279]\teval-mlogloss:0.608485\ttrain-mlogloss:0.234582\n",
      "[280]\teval-mlogloss:0.608461\ttrain-mlogloss:0.233873\n",
      "[281]\teval-mlogloss:0.608415\ttrain-mlogloss:0.233195\n",
      "[282]\teval-mlogloss:0.608434\ttrain-mlogloss:0.232501\n",
      "[283]\teval-mlogloss:0.608468\ttrain-mlogloss:0.231913\n",
      "[284]\teval-mlogloss:0.608475\ttrain-mlogloss:0.231220\n",
      "[285]\teval-mlogloss:0.608438\ttrain-mlogloss:0.230618\n",
      "[286]\teval-mlogloss:0.608398\ttrain-mlogloss:0.229951\n",
      "[287]\teval-mlogloss:0.608356\ttrain-mlogloss:0.229282\n",
      "[288]\teval-mlogloss:0.608351\ttrain-mlogloss:0.228605\n",
      "[289]\teval-mlogloss:0.608400\ttrain-mlogloss:0.228058\n",
      "[290]\teval-mlogloss:0.608401\ttrain-mlogloss:0.227371\n",
      "[291]\teval-mlogloss:0.608402\ttrain-mlogloss:0.226681\n"
     ]
    },
    {
     "ename": "KeyboardInterrupt",
     "evalue": "",
     "output_type": "error",
     "traceback": [
      "\u001b[1;31m---------------------------------------------------------------------------\u001b[0m",
      "\u001b[1;31mKeyboardInterrupt\u001b[0m                         Traceback (most recent call last)",
      "\u001b[1;32m<ipython-input-54-99373162be9d>\u001b[0m in \u001b[0;36m<module>\u001b[1;34m()\u001b[0m\n\u001b[1;32m----> 1\u001b[1;33m \u001b[0mget_ipython\u001b[0m\u001b[1;33m(\u001b[0m\u001b[1;33m)\u001b[0m\u001b[1;33m.\u001b[0m\u001b[0mrun_cell_magic\u001b[0m\u001b[1;33m(\u001b[0m\u001b[1;34m'time'\u001b[0m\u001b[1;33m,\u001b[0m \u001b[1;34m''\u001b[0m\u001b[1;33m,\u001b[0m \u001b[1;34m'clf = xgb.train(params, \\n              dtrain, \\n                ntrees, \\n                evals=watchlist\\n               )'\u001b[0m\u001b[1;33m)\u001b[0m\u001b[1;33m\u001b[0m\u001b[0m\n\u001b[0m",
      "\u001b[1;32m/opt/conda/Anaconda3/lib/python3.4/site-packages/IPython/core/interactiveshell.py\u001b[0m in \u001b[0;36mrun_cell_magic\u001b[1;34m(self, magic_name, line, cell)\u001b[0m\n\u001b[0;32m   2291\u001b[0m             \u001b[0mmagic_arg_s\u001b[0m \u001b[1;33m=\u001b[0m \u001b[0mself\u001b[0m\u001b[1;33m.\u001b[0m\u001b[0mvar_expand\u001b[0m\u001b[1;33m(\u001b[0m\u001b[0mline\u001b[0m\u001b[1;33m,\u001b[0m \u001b[0mstack_depth\u001b[0m\u001b[1;33m)\u001b[0m\u001b[1;33m\u001b[0m\u001b[0m\n\u001b[0;32m   2292\u001b[0m             \u001b[1;32mwith\u001b[0m \u001b[0mself\u001b[0m\u001b[1;33m.\u001b[0m\u001b[0mbuiltin_trap\u001b[0m\u001b[1;33m:\u001b[0m\u001b[1;33m\u001b[0m\u001b[0m\n\u001b[1;32m-> 2293\u001b[1;33m                 \u001b[0mresult\u001b[0m \u001b[1;33m=\u001b[0m \u001b[0mfn\u001b[0m\u001b[1;33m(\u001b[0m\u001b[0mmagic_arg_s\u001b[0m\u001b[1;33m,\u001b[0m \u001b[0mcell\u001b[0m\u001b[1;33m)\u001b[0m\u001b[1;33m\u001b[0m\u001b[0m\n\u001b[0m\u001b[0;32m   2294\u001b[0m             \u001b[1;32mreturn\u001b[0m \u001b[0mresult\u001b[0m\u001b[1;33m\u001b[0m\u001b[0m\n\u001b[0;32m   2295\u001b[0m \u001b[1;33m\u001b[0m\u001b[0m\n",
      "\u001b[1;32m/opt/conda/Anaconda3/lib/python3.4/site-packages/IPython/core/magics/execution.py\u001b[0m in \u001b[0;36mtime\u001b[1;34m(self, line, cell, local_ns)\u001b[0m\n",
      "\u001b[1;32m/opt/conda/Anaconda3/lib/python3.4/site-packages/IPython/core/magic.py\u001b[0m in \u001b[0;36m<lambda>\u001b[1;34m(f, *a, **k)\u001b[0m\n\u001b[0;32m    191\u001b[0m     \u001b[1;31m# but it's overkill for just that one bit of state.\u001b[0m\u001b[1;33m\u001b[0m\u001b[1;33m\u001b[0m\u001b[0m\n\u001b[0;32m    192\u001b[0m     \u001b[1;32mdef\u001b[0m \u001b[0mmagic_deco\u001b[0m\u001b[1;33m(\u001b[0m\u001b[0marg\u001b[0m\u001b[1;33m)\u001b[0m\u001b[1;33m:\u001b[0m\u001b[1;33m\u001b[0m\u001b[0m\n\u001b[1;32m--> 193\u001b[1;33m         \u001b[0mcall\u001b[0m \u001b[1;33m=\u001b[0m \u001b[1;32mlambda\u001b[0m \u001b[0mf\u001b[0m\u001b[1;33m,\u001b[0m \u001b[1;33m*\u001b[0m\u001b[0ma\u001b[0m\u001b[1;33m,\u001b[0m \u001b[1;33m**\u001b[0m\u001b[0mk\u001b[0m\u001b[1;33m:\u001b[0m \u001b[0mf\u001b[0m\u001b[1;33m(\u001b[0m\u001b[1;33m*\u001b[0m\u001b[0ma\u001b[0m\u001b[1;33m,\u001b[0m \u001b[1;33m**\u001b[0m\u001b[0mk\u001b[0m\u001b[1;33m)\u001b[0m\u001b[1;33m\u001b[0m\u001b[0m\n\u001b[0m\u001b[0;32m    194\u001b[0m \u001b[1;33m\u001b[0m\u001b[0m\n\u001b[0;32m    195\u001b[0m         \u001b[1;32mif\u001b[0m \u001b[0mcallable\u001b[0m\u001b[1;33m(\u001b[0m\u001b[0marg\u001b[0m\u001b[1;33m)\u001b[0m\u001b[1;33m:\u001b[0m\u001b[1;33m\u001b[0m\u001b[0m\n",
      "\u001b[1;32m/opt/conda/Anaconda3/lib/python3.4/site-packages/IPython/core/magics/execution.py\u001b[0m in \u001b[0;36mtime\u001b[1;34m(self, line, cell, local_ns)\u001b[0m\n\u001b[0;32m   1165\u001b[0m         \u001b[1;32melse\u001b[0m\u001b[1;33m:\u001b[0m\u001b[1;33m\u001b[0m\u001b[0m\n\u001b[0;32m   1166\u001b[0m             \u001b[0mst\u001b[0m \u001b[1;33m=\u001b[0m \u001b[0mclock2\u001b[0m\u001b[1;33m(\u001b[0m\u001b[1;33m)\u001b[0m\u001b[1;33m\u001b[0m\u001b[0m\n\u001b[1;32m-> 1167\u001b[1;33m             \u001b[0mexec\u001b[0m\u001b[1;33m(\u001b[0m\u001b[0mcode\u001b[0m\u001b[1;33m,\u001b[0m \u001b[0mglob\u001b[0m\u001b[1;33m,\u001b[0m \u001b[0mlocal_ns\u001b[0m\u001b[1;33m)\u001b[0m\u001b[1;33m\u001b[0m\u001b[0m\n\u001b[0m\u001b[0;32m   1168\u001b[0m             \u001b[0mend\u001b[0m \u001b[1;33m=\u001b[0m \u001b[0mclock2\u001b[0m\u001b[1;33m(\u001b[0m\u001b[1;33m)\u001b[0m\u001b[1;33m\u001b[0m\u001b[0m\n\u001b[0;32m   1169\u001b[0m             \u001b[0mout\u001b[0m \u001b[1;33m=\u001b[0m \u001b[1;32mNone\u001b[0m\u001b[1;33m\u001b[0m\u001b[0m\n",
      "\u001b[1;32m<timed exec>\u001b[0m in \u001b[0;36m<module>\u001b[1;34m()\u001b[0m\n",
      "\u001b[1;32m/opt/conda/Anaconda3/lib/python3.4/site-packages/xgboost-0.4-py3.4.egg/xgboost/training.py\u001b[0m in \u001b[0;36mtrain\u001b[1;34m(params, dtrain, num_boost_round, evals, obj, feval, early_stopping_rounds, evals_result, verbose_eval)\u001b[0m\n\u001b[0;32m     60\u001b[0m     \u001b[1;32mif\u001b[0m \u001b[1;32mnot\u001b[0m \u001b[0mearly_stopping_rounds\u001b[0m\u001b[1;33m:\u001b[0m\u001b[1;33m\u001b[0m\u001b[0m\n\u001b[0;32m     61\u001b[0m         \u001b[1;32mfor\u001b[0m \u001b[0mi\u001b[0m \u001b[1;32min\u001b[0m \u001b[0mrange\u001b[0m\u001b[1;33m(\u001b[0m\u001b[0mnum_boost_round\u001b[0m\u001b[1;33m)\u001b[0m\u001b[1;33m:\u001b[0m\u001b[1;33m\u001b[0m\u001b[0m\n\u001b[1;32m---> 62\u001b[1;33m             \u001b[0mbst\u001b[0m\u001b[1;33m.\u001b[0m\u001b[0mupdate\u001b[0m\u001b[1;33m(\u001b[0m\u001b[0mdtrain\u001b[0m\u001b[1;33m,\u001b[0m \u001b[0mi\u001b[0m\u001b[1;33m,\u001b[0m \u001b[0mobj\u001b[0m\u001b[1;33m)\u001b[0m\u001b[1;33m\u001b[0m\u001b[0m\n\u001b[0m\u001b[0;32m     63\u001b[0m             \u001b[1;32mif\u001b[0m \u001b[0mlen\u001b[0m\u001b[1;33m(\u001b[0m\u001b[0mevals\u001b[0m\u001b[1;33m)\u001b[0m \u001b[1;33m!=\u001b[0m \u001b[1;36m0\u001b[0m\u001b[1;33m:\u001b[0m\u001b[1;33m\u001b[0m\u001b[0m\n\u001b[0;32m     64\u001b[0m                 \u001b[0mbst_eval_set\u001b[0m \u001b[1;33m=\u001b[0m \u001b[0mbst\u001b[0m\u001b[1;33m.\u001b[0m\u001b[0meval_set\u001b[0m\u001b[1;33m(\u001b[0m\u001b[0mevals\u001b[0m\u001b[1;33m,\u001b[0m \u001b[0mi\u001b[0m\u001b[1;33m,\u001b[0m \u001b[0mfeval\u001b[0m\u001b[1;33m)\u001b[0m\u001b[1;33m\u001b[0m\u001b[0m\n",
      "\u001b[1;32m/opt/conda/Anaconda3/lib/python3.4/site-packages/xgboost-0.4-py3.4.egg/xgboost/core.py\u001b[0m in \u001b[0;36mupdate\u001b[1;34m(self, dtrain, iteration, fobj)\u001b[0m\n\u001b[0;32m    521\u001b[0m             \u001b[1;32mraise\u001b[0m \u001b[0mTypeError\u001b[0m\u001b[1;33m(\u001b[0m\u001b[1;34m'invalid training matrix: {}'\u001b[0m\u001b[1;33m.\u001b[0m\u001b[0mformat\u001b[0m\u001b[1;33m(\u001b[0m\u001b[0mtype\u001b[0m\u001b[1;33m(\u001b[0m\u001b[0mdtrain\u001b[0m\u001b[1;33m)\u001b[0m\u001b[1;33m.\u001b[0m\u001b[0m__name__\u001b[0m\u001b[1;33m)\u001b[0m\u001b[1;33m)\u001b[0m\u001b[1;33m\u001b[0m\u001b[0m\n\u001b[0;32m    522\u001b[0m         \u001b[1;32mif\u001b[0m \u001b[0mfobj\u001b[0m \u001b[1;32mis\u001b[0m \u001b[1;32mNone\u001b[0m\u001b[1;33m:\u001b[0m\u001b[1;33m\u001b[0m\u001b[0m\n\u001b[1;32m--> 523\u001b[1;33m             \u001b[0m_check_call\u001b[0m\u001b[1;33m(\u001b[0m\u001b[0m_LIB\u001b[0m\u001b[1;33m.\u001b[0m\u001b[0mXGBoosterUpdateOneIter\u001b[0m\u001b[1;33m(\u001b[0m\u001b[0mself\u001b[0m\u001b[1;33m.\u001b[0m\u001b[0mhandle\u001b[0m\u001b[1;33m,\u001b[0m \u001b[0miteration\u001b[0m\u001b[1;33m,\u001b[0m \u001b[0mdtrain\u001b[0m\u001b[1;33m.\u001b[0m\u001b[0mhandle\u001b[0m\u001b[1;33m)\u001b[0m\u001b[1;33m)\u001b[0m\u001b[1;33m\u001b[0m\u001b[0m\n\u001b[0m\u001b[0;32m    524\u001b[0m         \u001b[1;32melse\u001b[0m\u001b[1;33m:\u001b[0m\u001b[1;33m\u001b[0m\u001b[0m\n\u001b[0;32m    525\u001b[0m             \u001b[0mpred\u001b[0m \u001b[1;33m=\u001b[0m \u001b[0mself\u001b[0m\u001b[1;33m.\u001b[0m\u001b[0mpredict\u001b[0m\u001b[1;33m(\u001b[0m\u001b[0mdtrain\u001b[0m\u001b[1;33m)\u001b[0m\u001b[1;33m\u001b[0m\u001b[0m\n",
      "\u001b[1;31mKeyboardInterrupt\u001b[0m: "
     ]
    }
   ],
   "source": [
    "%%time\n",
    "clf = xgb.train(params, \n",
    "              dtrain, \n",
    "                ntrees, \n",
    "                evals=watchlist\n",
    "               )"
   ]
  },
  {
   "cell_type": "markdown",
   "metadata": {},
   "source": [
    "### if you need to make average prediction"
   ]
  },
  {
   "cell_type": "code",
   "execution_count": null,
   "metadata": {
    "collapsed": false
   },
   "outputs": [],
   "source": [
    "from sklearn.metrics import log_loss\n",
    "# ave = True\n",
    "for i in range(4):\n",
    "    params = {\"objective\": \"multi:softprob\", \n",
    "              \"eta\": 0.06,\n",
    "              \"max_depth\": 6,\n",
    "              \"subsample\": 0.65,\n",
    "              \"colsample_bytree\": 0.7,\n",
    "              \"silent\": 1,\n",
    "              'min_child_weight': 4,\n",
    "              'num_class':38,\n",
    "              'eval_metric': 'mlogloss',\n",
    "              'nthread':3,\n",
    "              'seed':7742\n",
    "              }\n",
    "    clf = xgb.train(params, \n",
    "                    dtrain, \n",
    "                    ntrees, \n",
    "#                     evals=watchlist\n",
    "                   )\n",
    "    pred = clf.predict(dtest)\n",
    "#     pred_train = clf.predict(dtrain)\n",
    "    if type(ave) == bool:\n",
    "        ave = pred.copy()\n",
    "    else:\n",
    "        ave += pred\n",
    "#     print('Validation loss: {0}, train loss: {1}'.format(log_loss(te['TripType'], pred), log_loss(tr['TripType'], pred_train)))\n",
    "# print('Average prediction loss {0}'.format(log_loss(te['TripType'], ave/15.)))"
   ]
  },
  {
   "cell_type": "code",
   "execution_count": 18,
   "metadata": {
    "collapsed": false
   },
   "outputs": [
    {
     "name": "stdout",
     "output_type": "stream",
     "text": [
      "Validation loss: 0.7428016404853823, train loss: 0.31202338004996805\n"
     ]
    }
   ],
   "source": [
    "from sklearn.metrics import log_loss\n",
    "print('Validation loss: {0}, train loss: {1}'.format(log_loss(te['TripType'], pred), log_loss(tr['TripType'], pred_train)))"
   ]
  },
  {
   "cell_type": "code",
   "execution_count": 18,
   "metadata": {
    "collapsed": false
   },
   "outputs": [],
   "source": [
    "pred = clf.predict(dtrain)"
   ]
  },
  {
   "cell_type": "code",
   "execution_count": 15,
   "metadata": {
    "collapsed": false
   },
   "outputs": [],
   "source": [
    "from sklearn.metrics import log_loss\n",
    "# log_loss(tr['TripType'], pred)"
   ]
  },
  {
   "cell_type": "code",
   "execution_count": 98,
   "metadata": {
    "collapsed": false
   },
   "outputs": [
    {
     "data": {
      "text/plain": [
       "0.83126021368876035"
      ]
     },
     "execution_count": 98,
     "metadata": {},
     "output_type": "execute_result"
    }
   ],
   "source": [
    "pred = clf.predict(dvalid)\n",
    "log_loss(te['TripType'], pred)"
   ]
  },
  {
   "cell_type": "markdown",
   "metadata": {},
   "source": [
    "# RF feature importance"
   ]
  },
  {
   "cell_type": "code",
   "execution_count": 16,
   "metadata": {
    "collapsed": true
   },
   "outputs": [],
   "source": [
    "from sklearn.ensemble import RandomForestClassifier"
   ]
  },
  {
   "cell_type": "code",
   "execution_count": 17,
   "metadata": {
    "collapsed": false
   },
   "outputs": [],
   "source": [
    "rf = RandomForestClassifier(n_estimators=400, \n",
    "                             criterion='gini', \n",
    "                             max_depth=5, \n",
    "                             min_samples_split=2, \n",
    "                             min_samples_leaf=10, \n",
    "                             min_weight_fraction_leaf=0.0, \n",
    "                             max_features=0.5, \n",
    "                             max_leaf_nodes=None, \n",
    "                             bootstrap=True, \n",
    "                             oob_score=False, \n",
    "                             n_jobs=-1, \n",
    "                             random_state=4222, \n",
    "                             verbose=0, \n",
    "                             warm_start=False, \n",
    "                             class_weight=None)"
   ]
  },
  {
   "cell_type": "code",
   "execution_count": 18,
   "metadata": {
    "collapsed": false
   },
   "outputs": [
    {
     "data": {
      "text/plain": [
       "RandomForestClassifier(bootstrap=True, class_weight=None, criterion='gini',\n",
       "            max_depth=5, max_features=0.5, max_leaf_nodes=None,\n",
       "            min_samples_leaf=10, min_samples_split=2,\n",
       "            min_weight_fraction_leaf=0.0, n_estimators=400, n_jobs=-1,\n",
       "            oob_score=False, random_state=4222, verbose=0,\n",
       "            warm_start=False)"
      ]
     },
     "execution_count": 18,
     "metadata": {},
     "output_type": "execute_result"
    }
   ],
   "source": [
    "rf.fit(tr.drop(labels = ['TripType', 'VisitNumber'], axis = 1), tr['TripType'])"
   ]
  },
  {
   "cell_type": "code",
   "execution_count": 19,
   "metadata": {
    "collapsed": false
   },
   "outputs": [
    {
     "name": "stdout",
     "output_type": "stream",
     "text": [
      "1.83551292437\n",
      "1.81207197284\n"
     ]
    }
   ],
   "source": [
    "pred = rf.predict_proba(te.drop(labels = ['TripType', 'VisitNumber'], axis = 1))\n",
    "print(log_loss(te['TripType'], pred))\n",
    "pred = rf.predict_proba(tr.drop(labels = ['TripType', 'VisitNumber'], axis = 1))\n",
    "print(log_loss(tr['TripType'], pred))"
   ]
  },
  {
   "cell_type": "code",
   "execution_count": 21,
   "metadata": {
    "collapsed": true
   },
   "outputs": [],
   "source": [
    "features = list(te.drop(labels = ['TripType', 'VisitNumber'], axis = 1).columns)"
   ]
  },
  {
   "cell_type": "code",
   "execution_count": null,
   "metadata": {
    "collapsed": true
   },
   "outputs": [],
   "source": [
    "import matplotlib.pyplot as plt \n",
    "%matplotlib inline\n",
    "\n",
    "importances = rf.feature_importances_\n",
    "std = np.std([tree.feature_importances_ for tree in rf.estimators_],\n",
    "             axis=0)\n",
    "indices = np.argsort(importances)[::-1]\n",
    "\n",
    "# Print the feature ranking\n",
    "print(\"Feature ranking:\")\n",
    "\n",
    "for f in range(len(features)):\n",
    "    print(\"%d. feature %d (%f)\" % (f + 1, indices[f], importances[indices[f]]), features[indices[f]])\n",
    "\n",
    "# Plot the feature importances of the forest\n",
    "plt.figure()\n",
    "plt.title(\"Feature importances\")\n",
    "plt.bar(range(len(features)), importances[indices],\n",
    "       color=\"r\", yerr=std[indices], align=\"center\")\n",
    "plt.xticks(range(len(features)), indices)\n",
    "plt.xlim([-1, len(features)])\n",
    "plt.show()"
   ]
  },
  {
   "cell_type": "markdown",
   "metadata": {},
   "source": [
    "# XGBoost Feature Importance"
   ]
  },
  {
   "cell_type": "code",
   "execution_count": 23,
   "metadata": {
    "collapsed": true
   },
   "outputs": [],
   "source": [
    "%matplotlib inline"
   ]
  },
  {
   "cell_type": "code",
   "execution_count": 24,
   "metadata": {
    "collapsed": false
   },
   "outputs": [
    {
     "name": "stderr",
     "output_type": "stream",
     "text": [
      "/opt/conda/Anaconda3/lib/python3.4/site-packages/ipykernel/__main__.py:5: FutureWarning: order is deprecated, use sort_values(...)\n"
     ]
    },
    {
     "data": {
      "text/plain": [
       "<matplotlib.axes._subplots.AxesSubplot at 0x7ff2b1a06ac8>"
      ]
     },
     "execution_count": 24,
     "metadata": {},
     "output_type": "execute_result"
    },
    {
     "data": {
      "image/png": "[encoded data removed]",
      "text/plain": [
       "<matplotlib.figure.Figure at 0x7ff2b1a06898>"
      ]
     },
     "metadata": {},
     "output_type": "display_data"
    }
   ],
   "source": [
    "features = tr.drop(labels = ['TripType', 'VisitNumber'], axis = 1).columns\n",
    "mapFeat = dict(zip([\"f\"+str(i) for i in range(len(features))],features))\n",
    "ts = pd.Series(clf.get_fscore())\n",
    "ts.index = ts.reset_index()['index'].map(mapFeat)\n",
    "ts.sort_values()[-75:].plot(kind=\"barh\", title=(\"features importance\"), figsize = (10,20))"
   ]
  },
  {
   "cell_type": "markdown",
   "metadata": {},
   "source": [
    "# Create file for Kaggle"
   ]
  },
  {
   "cell_type": "code",
   "execution_count": null,
   "metadata": {
    "collapsed": false
   },
   "outputs": [],
   "source": [
    "pred = clf.predict(dtest)\n",
    "pred_df = pd.DataFrame(pred, columns = ['TripType_' + str(i) for i in le_types.inverse_transform(np.arange(38))])\n",
    "pred_df.insert(0, 'VisitNumber', te.VisitNumber)\n",
    "pred_df.to_csv('./Submissions/XGB_fineline_distances_ridge_4500.csv', index=False)"
   ]
  },
  {
   "cell_type": "code",
   "execution_count": null,
   "metadata": {
    "collapsed": false
   },
   "outputs": [],
   "source": [
    "pred_df.insert(0, 'VisitNumber', te.VisitNumber)\n",
    "pred_df.to_csv('./Submissions/XGB_secret_feature_300.csv', index=False)"
   ]
  },
  {
   "cell_type": "markdown",
   "metadata": {},
   "source": [
    "# TSNE attempt - FAIL"
   ]
  },
  {
   "cell_type": "code",
   "execution_count": 10,
   "metadata": {
    "collapsed": false
   },
   "outputs": [],
   "source": [
    "from sklearn.manifold import TSNE\n",
    "import pandas as pd"
   ]
  },
  {
   "cell_type": "code",
   "execution_count": 27,
   "metadata": {
    "collapsed": true
   },
   "outputs": [],
   "source": [
    "features_tr = pd.read_pickle('./Data/tfidif_tr_val')\n",
    "features_te = pd.read_pickle('./Data/tfidif_te_val')"
   ]
  },
  {
   "cell_type": "code",
   "execution_count": 11,
   "metadata": {
    "collapsed": false
   },
   "outputs": [],
   "source": [
    "proj = TSNE(n_components=2, \n",
    "                      perplexity=30.0, \n",
    "                      early_exaggeration=4.0, \n",
    "                      learning_rate=1000.0, \n",
    "                      n_iter=1000, \n",
    "                      n_iter_without_progress=30, \n",
    "                      min_grad_norm=1e-07, \n",
    "                      metric='euclidean', \n",
    "                      init='random', \n",
    "                      verbose=4, \n",
    "                      random_state=77777, \n",
    "                      method='barnes_hut', \n",
    "                      angle=0.5)"
   ]
  },
  {
   "cell_type": "code",
   "execution_count": 12,
   "metadata": {
    "collapsed": false
   },
   "outputs": [],
   "source": [
    "features_te.drop(labels = ['VisitNumber'], inplace = True, axis = 1)\n",
    "features_tr.drop(labels = ['VisitNumber'], inplace = True, axis = 1)"
   ]
  },
  {
   "cell_type": "code",
   "execution_count": 14,
   "metadata": {
    "collapsed": true
   },
   "outputs": [
    {
     "name": "stdout",
     "output_type": "stream",
     "text": [
      "[t-SNE] Computing pairwise distances...\n",
      "[t-SNE] Computing 91 nearest neighbors...\n",
      "[t-SNE] Computed conditional probabilities for sample 1000 / 18861\n",
      "[t-SNE] Computed conditional probabilities for sample 2000 / 18861\n",
      "[t-SNE] Computed conditional probabilities for sample 3000 / 18861\n",
      "[t-SNE] Computed conditional probabilities for sample 4000 / 18861\n",
      "[t-SNE] Computed conditional probabilities for sample 5000 / 18861\n",
      "[t-SNE] Computed conditional probabilities for sample 6000 / 18861\n",
      "[t-SNE] Computed conditional probabilities for sample 7000 / 18861\n",
      "[t-SNE] Computed conditional probabilities for sample 8000 / 18861\n",
      "[t-SNE] Computed conditional probabilities for sample 9000 / 18861\n",
      "[t-SNE] Computed conditional probabilities for sample 10000 / 18861\n",
      "[t-SNE] Computed conditional probabilities for sample 11000 / 18861\n",
      "[t-SNE] Computed conditional probabilities for sample 12000 / 18861\n",
      "[t-SNE] Computed conditional probabilities for sample 13000 / 18861\n",
      "[t-SNE] Computed conditional probabilities for sample 14000 / 18861\n",
      "[t-SNE] Computed conditional probabilities for sample 15000 / 18861\n",
      "[t-SNE] Computed conditional probabilities for sample 16000 / 18861\n",
      "[t-SNE] Computed conditional probabilities for sample 17000 / 18861\n",
      "[t-SNE] Computed conditional probabilities for sample 18000 / 18861\n",
      "[t-SNE] Computed conditional probabilities for sample 18861 / 18861\n",
      "[t-SNE] Mean sigma: 0.000000\n",
      "[t-SNE] Iteration 25: error = 0.9376866, gradient norm = 0.0000437\n",
      "[t-SNE] Iteration 25: gradient norm 0.000044. Finished.\n",
      "[t-SNE] Iteration 50: error = 0.9369927, gradient norm = 0.0055213\n",
      "[t-SNE] Iteration 75: error = 0.9333201, gradient norm = 0.0040166\n",
      "[t-SNE] Iteration 100: error = 0.9325002, gradient norm = 0.0036716\n",
      "[t-SNE] Error after 100 iterations with early exaggeration: 0.932500\n",
      "[t-SNE] Iteration 125: error = 0.9262915, gradient norm = 0.0023723\n",
      "[t-SNE] Iteration 150: error = 0.9238974, gradient norm = 0.0021758\n",
      "[t-SNE] Iteration 175: error = 0.9233110, gradient norm = 0.0021477\n",
      "[t-SNE] Iteration 200: error = 0.9231643, gradient norm = 0.0021442\n",
      "[t-SNE] Iteration 225: error = 0.9231269, gradient norm = 0.0021432\n",
      "[t-SNE] Iteration 250: error = 0.9231156, gradient norm = 0.0021409\n",
      "[t-SNE] Iteration 250: error difference 0.000000. Finished.\n",
      "[t-SNE] Error after 250 iterations: 0.923116\n"
     ]
    }
   ],
   "source": [
    "s = proj.fit_transform(features_te.as_matrix())"
   ]
  },
  {
   "cell_type": "code",
   "execution_count": 18,
   "metadata": {
    "collapsed": false
   },
   "outputs": [],
   "source": [
    "%matplotlib inline"
   ]
  },
  {
   "cell_type": "code",
   "execution_count": 22,
   "metadata": {
    "collapsed": true
   },
   "outputs": [],
   "source": [
    "import matplotlib.pyplot as plt"
   ]
  },
  {
   "cell_type": "code",
   "execution_count": 46,
   "metadata": {
    "collapsed": true
   },
   "outputs": [],
   "source": [
    "temp_te.reset_index(drop=True, inplace = True)"
   ]
  },
  {
   "cell_type": "code",
   "execution_count": 52,
   "metadata": {
    "collapsed": false
   },
   "outputs": [
    {
     "data": {
      "image/png": "[encoded data removed]",
      "text/plain": [
       "<matplotlib.figure.Figure at 0x7fa3a3ab8208>"
      ]
     },
     "metadata": {},
     "output_type": "display_data"
    }
   ],
   "source": [
    "qq = [29, 4, 999]\n",
    "plt.figure(figsize = (15,15))\n",
    "plt.scatter(s[temp_te[temp_te['TripType'].isin(qq)].index,0], s[temp_te[temp_te['TripType'].isin(qq)].index,1], c=temp_te[temp_te['TripType'].isin(qq)].TripType, alpha=0.5, cmap='jet')\n",
    "plt.show()"
   ]
  },
  {
   "cell_type": "markdown",
   "metadata": {
    "collapsed": true
   },
   "source": [
    "# Keras attempt"
   ]
  },
  {
   "cell_type": "code",
   "execution_count": 84,
   "metadata": {
    "collapsed": true
   },
   "outputs": [],
   "source": [
    "X_train = tr.drop(labels = ['VisitNumber', 'TripType'], axis = 1)\n",
    "X_test = te.drop(labels = ['VisitNumber', 'TripType'], axis = 1)\n",
    "Y_train = tr['TripType']\n",
    "Y_test = te['TripType']"
   ]
  },
  {
   "cell_type": "code",
   "execution_count": 23,
   "metadata": {
    "collapsed": false
   },
   "outputs": [],
   "source": [
    "from sklearn.preprocessing import StandardScaler\n",
    "ss = StandardScaler()\n",
    "ss.fit(np.vstack([X_train.as_matrix(), X_test.as_matrix()]))\n",
    "X_train = ss.transform(X_train.as_matrix())\n",
    "X_test = ss.transform(X_test.as_matrix())"
   ]
  },
  {
   "cell_type": "code",
   "execution_count": 85,
   "metadata": {
    "collapsed": true
   },
   "outputs": [],
   "source": [
    "# X_train.to_pickle('./Data/X_train')\n",
    "# X_test.to_pickle('./Data/X_test')\n",
    "# Y_train.to_pickle('./Data/Y_train')\n",
    "# Y_test.to_pickle('./Data/Y_test')"
   ]
  },
  {
   "cell_type": "code",
   "execution_count": 29,
   "metadata": {
    "collapsed": true
   },
   "outputs": [],
   "source": [
    "import pandas as pd\n",
    "X_train = pd.read_pickle('./Data/X_train')\n",
    "X_test = pd.read_pickle('./Data/X_test')\n",
    "Y_train = pd.read_pickle('./Data/Y_train')\n",
    "Y_test = pd.read_pickle('./Data/Y_test')"
   ]
  },
  {
   "cell_type": "code",
   "execution_count": 30,
   "metadata": {
    "collapsed": false
   },
   "outputs": [],
   "source": [
    "from sklearn.preprocessing import OneHotEncoder\n",
    "Y_train = pd.get_dummies(Y_train, prefix = 'class')\n",
    "Y_test = pd.get_dummies(Y_test, prefix = 'class')"
   ]
  },
  {
   "cell_type": "code",
   "execution_count": 49,
   "metadata": {
    "collapsed": false
   },
   "outputs": [],
   "source": [
    "from sklearn.metrics import log_loss\n",
    "# from __future__ import absolute_import\n",
    "from keras.models import Sequential\n",
    "from keras.layers.core import Dense, Dropout, Activation\n",
    "from keras.optimizers import SGD, Adagrad, Adam\n",
    "# from . import backend as K\n",
    "model = Sequential()\n",
    "# Dense(64) is a fully-connected layer with 64 hidden units.\n",
    "# in the first layer, you must specify the expected input data shape:\n",
    "# here, 20-dimensional vectors.\n",
    "model.add(Dense(1024, input_dim=X_train.shape[1], init='uniform'))\n",
    "model.add(Activation('sigmoid'))\n",
    "model.add(Dropout(0.1))\n",
    "model.add(Dense(512, init='uniform', activation = 'sigmoid'))\n",
    "model.add(Dropout(0.1))\n",
    "model.add(Dense(512, init='uniform', activation = 'sigmoid'))\n",
    "model.add(Dropout(0.1))\n",
    "model.add(Dense(37, init='uniform', activation = 'sigmoid'))\n",
    "\n",
    "sgd = SGD(lr=0.001, decay=1e-6, momentum=0.9, nesterov=True)\n",
    "ada = Adagrad()\n",
    "# model.compile(loss='mean_absolute_percentage_error', optimizer=sgd)\n",
    "model.compile(loss='categorical_crossentropy', optimizer=ada)\n",
    "\n",
    "# for i in range(10):\n",
    "#     model.fit(X_train.as_matrix(), Y_train.as_matrix(), nb_epoch=1, batch_size = 128)\n",
    "#     score_test = model.evaluate(X_test.as_matrix(), Y_test.as_matrix(), batch_size=128)\n",
    "# #     pred_test = model.predict(X_test.as_matrix(), batch_size = 128)\n",
    "# #     err = log_loss(pred_test.reshape([1,-1]), Y_test)\n",
    "# #     err_test = log_loss(pred_test, Y_test)\n",
    "#     print('Epoch {0}'.format(i))\n",
    "#     print('Validation error: ', score_test)\n",
    "#     score_train = model.evaluate(X_train.as_matrix(), Y_train.as_matrix(), batch_size=128)\n",
    "# #     err_train = log_loss(pred_train, Y_train)\n",
    "#     print('Train error: ', score_train)"
   ]
  },
  {
   "cell_type": "code",
   "execution_count": 3,
   "metadata": {
    "collapsed": true
   },
   "outputs": [],
   "source": [
    "import numpy as np"
   ]
  },
  {
   "cell_type": "code",
   "execution_count": 63,
   "metadata": {
    "collapsed": false
   },
   "outputs": [
    {
     "data": {
      "text/plain": [
       "(94134, 38)"
      ]
     },
     "execution_count": 63,
     "metadata": {},
     "output_type": "execute_result"
    }
   ],
   "source": [
    "np.vstack([Y_train.as_matrix(), Y_test.as_matrix()]).shape"
   ]
  },
  {
   "cell_type": "code",
   "execution_count": 49,
   "metadata": {
    "collapsed": false
   },
   "outputs": [
    {
     "data": {
      "text/plain": [
       "True"
      ]
     },
     "execution_count": 49,
     "metadata": {},
     "output_type": "execute_result"
    }
   ],
   "source": [
    "pred_test_ave"
   ]
  },
  {
   "cell_type": "code",
   "execution_count": 59,
   "metadata": {
    "collapsed": false,
    "scrolled": true
   },
   "outputs": [
    {
     "name": "stdout",
     "output_type": "stream",
     "text": [
      "Starting iteration 1\n"
     ]
    },
    {
     "ename": "KeyboardInterrupt",
     "evalue": "",
     "output_type": "error",
     "traceback": [
      "\u001b[1;31m---------------------------------------------------------------------------\u001b[0m",
      "\u001b[1;31mKeyboardInterrupt\u001b[0m                         Traceback (most recent call last)",
      "\u001b[1;32m<ipython-input-59-29840f2bf821>\u001b[0m in \u001b[0;36m<module>\u001b[1;34m()\u001b[0m\n\u001b[0;32m     12\u001b[0m     \u001b[0mmodel\u001b[0m\u001b[1;33m.\u001b[0m\u001b[0madd\u001b[0m\u001b[1;33m(\u001b[0m\u001b[0mDense\u001b[0m\u001b[1;33m(\u001b[0m\u001b[1;36m37\u001b[0m\u001b[1;33m)\u001b[0m\u001b[1;33m)\u001b[0m\u001b[1;33m\u001b[0m\u001b[0m\n\u001b[0;32m     13\u001b[0m     \u001b[0mmodel\u001b[0m\u001b[1;33m.\u001b[0m\u001b[0madd\u001b[0m\u001b[1;33m(\u001b[0m\u001b[0mActivation\u001b[0m\u001b[1;33m(\u001b[0m\u001b[1;34m'softmax'\u001b[0m\u001b[1;33m)\u001b[0m\u001b[1;33m)\u001b[0m\u001b[1;33m\u001b[0m\u001b[0m\n\u001b[1;32m---> 14\u001b[1;33m     \u001b[0mmodel\u001b[0m\u001b[1;33m.\u001b[0m\u001b[0mcompile\u001b[0m\u001b[1;33m(\u001b[0m\u001b[0mloss\u001b[0m\u001b[1;33m=\u001b[0m\u001b[1;34m'categorical_crossentropy'\u001b[0m\u001b[1;33m,\u001b[0m \u001b[0moptimizer\u001b[0m\u001b[1;33m=\u001b[0m\u001b[1;34m'adam'\u001b[0m\u001b[1;33m)\u001b[0m\u001b[1;33m\u001b[0m\u001b[0m\n\u001b[0m\u001b[0;32m     15\u001b[0m \u001b[1;33m\u001b[0m\u001b[0m\n\u001b[0;32m     16\u001b[0m     model.fit(np.vstack([X_train.as_matrix(), X_test.as_matrix()]),\n",
      "\u001b[1;32m/opt/conda/Anaconda3/lib/python3.4/site-packages/Keras-0.3.0-py3.4.egg/keras/models.py\u001b[0m in \u001b[0;36mcompile\u001b[1;34m(self, optimizer, loss, class_mode)\u001b[0m\n\u001b[0;32m    452\u001b[0m \u001b[1;33m\u001b[0m\u001b[0m\n\u001b[0;32m    453\u001b[0m         \u001b[0mself\u001b[0m\u001b[1;33m.\u001b[0m\u001b[0m_train\u001b[0m \u001b[1;33m=\u001b[0m \u001b[0mK\u001b[0m\u001b[1;33m.\u001b[0m\u001b[0mfunction\u001b[0m\u001b[1;33m(\u001b[0m\u001b[0mtrain_ins\u001b[0m\u001b[1;33m,\u001b[0m \u001b[1;33m[\u001b[0m\u001b[0mtrain_loss\u001b[0m\u001b[1;33m]\u001b[0m\u001b[1;33m,\u001b[0m \u001b[0mupdates\u001b[0m\u001b[1;33m=\u001b[0m\u001b[0mupdates\u001b[0m\u001b[1;33m)\u001b[0m\u001b[1;33m\u001b[0m\u001b[0m\n\u001b[1;32m--> 454\u001b[1;33m         \u001b[0mself\u001b[0m\u001b[1;33m.\u001b[0m\u001b[0m_train_with_acc\u001b[0m \u001b[1;33m=\u001b[0m \u001b[0mK\u001b[0m\u001b[1;33m.\u001b[0m\u001b[0mfunction\u001b[0m\u001b[1;33m(\u001b[0m\u001b[0mtrain_ins\u001b[0m\u001b[1;33m,\u001b[0m \u001b[1;33m[\u001b[0m\u001b[0mtrain_loss\u001b[0m\u001b[1;33m,\u001b[0m \u001b[0mtrain_accuracy\u001b[0m\u001b[1;33m]\u001b[0m\u001b[1;33m,\u001b[0m \u001b[0mupdates\u001b[0m\u001b[1;33m=\u001b[0m\u001b[0mupdates\u001b[0m\u001b[1;33m)\u001b[0m\u001b[1;33m\u001b[0m\u001b[0m\n\u001b[0m\u001b[0;32m    455\u001b[0m         \u001b[0mself\u001b[0m\u001b[1;33m.\u001b[0m\u001b[0m_predict\u001b[0m \u001b[1;33m=\u001b[0m \u001b[0mK\u001b[0m\u001b[1;33m.\u001b[0m\u001b[0mfunction\u001b[0m\u001b[1;33m(\u001b[0m\u001b[0mpredict_ins\u001b[0m\u001b[1;33m,\u001b[0m \u001b[1;33m[\u001b[0m\u001b[0mself\u001b[0m\u001b[1;33m.\u001b[0m\u001b[0my_test\u001b[0m\u001b[1;33m]\u001b[0m\u001b[1;33m,\u001b[0m \u001b[0mupdates\u001b[0m\u001b[1;33m=\u001b[0m\u001b[0mself\u001b[0m\u001b[1;33m.\u001b[0m\u001b[0mstate_updates\u001b[0m\u001b[1;33m)\u001b[0m\u001b[1;33m\u001b[0m\u001b[0m\n\u001b[0;32m    456\u001b[0m         \u001b[0mself\u001b[0m\u001b[1;33m.\u001b[0m\u001b[0m_test\u001b[0m \u001b[1;33m=\u001b[0m \u001b[0mK\u001b[0m\u001b[1;33m.\u001b[0m\u001b[0mfunction\u001b[0m\u001b[1;33m(\u001b[0m\u001b[0mtest_ins\u001b[0m\u001b[1;33m,\u001b[0m \u001b[1;33m[\u001b[0m\u001b[0mtest_loss\u001b[0m\u001b[1;33m]\u001b[0m\u001b[1;33m)\u001b[0m\u001b[1;33m\u001b[0m\u001b[0m\n",
      "\u001b[1;32m/opt/conda/Anaconda3/lib/python3.4/site-packages/Keras-0.3.0-py3.4.egg/keras/backend/theano_backend.py\u001b[0m in \u001b[0;36mfunction\u001b[1;34m(inputs, outputs, updates)\u001b[0m\n\u001b[0;32m    367\u001b[0m \u001b[1;33m\u001b[0m\u001b[0m\n\u001b[0;32m    368\u001b[0m \u001b[1;32mdef\u001b[0m \u001b[0mfunction\u001b[0m\u001b[1;33m(\u001b[0m\u001b[0minputs\u001b[0m\u001b[1;33m,\u001b[0m \u001b[0moutputs\u001b[0m\u001b[1;33m,\u001b[0m \u001b[0mupdates\u001b[0m\u001b[1;33m=\u001b[0m\u001b[1;33m[\u001b[0m\u001b[1;33m]\u001b[0m\u001b[1;33m)\u001b[0m\u001b[1;33m:\u001b[0m\u001b[1;33m\u001b[0m\u001b[0m\n\u001b[1;32m--> 369\u001b[1;33m     \u001b[1;32mreturn\u001b[0m \u001b[0mFunction\u001b[0m\u001b[1;33m(\u001b[0m\u001b[0minputs\u001b[0m\u001b[1;33m,\u001b[0m \u001b[0moutputs\u001b[0m\u001b[1;33m,\u001b[0m \u001b[0mupdates\u001b[0m\u001b[1;33m=\u001b[0m\u001b[0mupdates\u001b[0m\u001b[1;33m)\u001b[0m\u001b[1;33m\u001b[0m\u001b[0m\n\u001b[0m\u001b[0;32m    370\u001b[0m \u001b[1;33m\u001b[0m\u001b[0m\n\u001b[0;32m    371\u001b[0m \u001b[1;33m\u001b[0m\u001b[0m\n",
      "\u001b[1;32m/opt/conda/Anaconda3/lib/python3.4/site-packages/Keras-0.3.0-py3.4.egg/keras/backend/theano_backend.py\u001b[0m in \u001b[0;36m__init__\u001b[1;34m(self, inputs, outputs, updates, **kwargs)\u001b[0m\n\u001b[0;32m    360\u001b[0m     \u001b[1;32mdef\u001b[0m \u001b[0m__init__\u001b[0m\u001b[1;33m(\u001b[0m\u001b[0mself\u001b[0m\u001b[1;33m,\u001b[0m \u001b[0minputs\u001b[0m\u001b[1;33m,\u001b[0m \u001b[0moutputs\u001b[0m\u001b[1;33m,\u001b[0m \u001b[0mupdates\u001b[0m\u001b[1;33m=\u001b[0m\u001b[1;33m[\u001b[0m\u001b[1;33m]\u001b[0m\u001b[1;33m,\u001b[0m \u001b[1;33m**\u001b[0m\u001b[0mkwargs\u001b[0m\u001b[1;33m)\u001b[0m\u001b[1;33m:\u001b[0m\u001b[1;33m\u001b[0m\u001b[0m\n\u001b[0;32m    361\u001b[0m         self.function = theano.function(inputs, outputs, updates=updates,\n\u001b[1;32m--> 362\u001b[1;33m                                         allow_input_downcast=True, **kwargs)\n\u001b[0m\u001b[0;32m    363\u001b[0m \u001b[1;33m\u001b[0m\u001b[0m\n\u001b[0;32m    364\u001b[0m     \u001b[1;32mdef\u001b[0m \u001b[0m__call__\u001b[0m\u001b[1;33m(\u001b[0m\u001b[0mself\u001b[0m\u001b[1;33m,\u001b[0m \u001b[0minputs\u001b[0m\u001b[1;33m)\u001b[0m\u001b[1;33m:\u001b[0m\u001b[1;33m\u001b[0m\u001b[0m\n",
      "\u001b[1;32m/opt/conda/Anaconda3/lib/python3.4/site-packages/theano/compile/function.py\u001b[0m in \u001b[0;36mfunction\u001b[1;34m(inputs, outputs, mode, updates, givens, no_default_updates, accept_inplace, name, rebuild_strict, allow_input_downcast, profile, on_unused_input)\u001b[0m\n\u001b[0;32m    315\u001b[0m                    \u001b[0mon_unused_input\u001b[0m\u001b[1;33m=\u001b[0m\u001b[0mon_unused_input\u001b[0m\u001b[1;33m,\u001b[0m\u001b[1;33m\u001b[0m\u001b[0m\n\u001b[0;32m    316\u001b[0m                    \u001b[0mprofile\u001b[0m\u001b[1;33m=\u001b[0m\u001b[0mprofile\u001b[0m\u001b[1;33m,\u001b[0m\u001b[1;33m\u001b[0m\u001b[0m\n\u001b[1;32m--> 317\u001b[1;33m                    output_keys=output_keys)\n\u001b[0m\u001b[0;32m    318\u001b[0m     \u001b[1;31m# We need to add the flag check_aliased inputs if we have any mutable or\u001b[0m\u001b[1;33m\u001b[0m\u001b[1;33m\u001b[0m\u001b[0m\n\u001b[0;32m    319\u001b[0m     \u001b[1;31m# borrowed used defined inputs\u001b[0m\u001b[1;33m\u001b[0m\u001b[1;33m\u001b[0m\u001b[0m\n",
      "\u001b[1;32m/opt/conda/Anaconda3/lib/python3.4/site-packages/theano/compile/pfunc.py\u001b[0m in \u001b[0;36mpfunc\u001b[1;34m(params, outputs, mode, updates, givens, no_default_updates, accept_inplace, name, rebuild_strict, allow_input_downcast, profile, on_unused_input, output_keys)\u001b[0m\n\u001b[0;32m    524\u001b[0m                          \u001b[0maccept_inplace\u001b[0m\u001b[1;33m=\u001b[0m\u001b[0maccept_inplace\u001b[0m\u001b[1;33m,\u001b[0m \u001b[0mname\u001b[0m\u001b[1;33m=\u001b[0m\u001b[0mname\u001b[0m\u001b[1;33m,\u001b[0m\u001b[1;33m\u001b[0m\u001b[0m\n\u001b[0;32m    525\u001b[0m                          \u001b[0mprofile\u001b[0m\u001b[1;33m=\u001b[0m\u001b[0mprofile\u001b[0m\u001b[1;33m,\u001b[0m \u001b[0mon_unused_input\u001b[0m\u001b[1;33m=\u001b[0m\u001b[0mon_unused_input\u001b[0m\u001b[1;33m,\u001b[0m\u001b[1;33m\u001b[0m\u001b[0m\n\u001b[1;32m--> 526\u001b[1;33m                          output_keys=output_keys)\n\u001b[0m\u001b[0;32m    527\u001b[0m \u001b[1;33m\u001b[0m\u001b[0m\n\u001b[0;32m    528\u001b[0m \u001b[1;33m\u001b[0m\u001b[0m\n",
      "\u001b[1;32m/opt/conda/Anaconda3/lib/python3.4/site-packages/theano/compile/function_module.py\u001b[0m in \u001b[0;36morig_function\u001b[1;34m(inputs, outputs, mode, accept_inplace, name, profile, on_unused_input, output_keys)\u001b[0m\n\u001b[0;32m   1775\u001b[0m                    \u001b[0mprofile\u001b[0m\u001b[1;33m=\u001b[0m\u001b[0mprofile\u001b[0m\u001b[1;33m,\u001b[0m\u001b[1;33m\u001b[0m\u001b[0m\n\u001b[0;32m   1776\u001b[0m                    \u001b[0mon_unused_input\u001b[0m\u001b[1;33m=\u001b[0m\u001b[0mon_unused_input\u001b[0m\u001b[1;33m,\u001b[0m\u001b[1;33m\u001b[0m\u001b[0m\n\u001b[1;32m-> 1777\u001b[1;33m                    \u001b[0moutput_keys\u001b[0m\u001b[1;33m=\u001b[0m\u001b[0moutput_keys\u001b[0m\u001b[1;33m)\u001b[0m\u001b[1;33m.\u001b[0m\u001b[0mcreate\u001b[0m\u001b[1;33m(\u001b[0m\u001b[1;33m\u001b[0m\u001b[0m\n\u001b[0m\u001b[0;32m   1778\u001b[0m             defaults)\n\u001b[0;32m   1779\u001b[0m \u001b[1;33m\u001b[0m\u001b[0m\n",
      "\u001b[1;32m/opt/conda/Anaconda3/lib/python3.4/site-packages/theano/compile/function_module.py\u001b[0m in \u001b[0;36m__init__\u001b[1;34m(self, inputs, outputs, mode, accept_inplace, function_builder, profile, on_unused_input, fgraph, output_keys)\u001b[0m\n\u001b[0;32m   1455\u001b[0m                         optimizer, inputs, outputs)\n\u001b[0;32m   1456\u001b[0m                 \u001b[1;32melse\u001b[0m\u001b[1;33m:\u001b[0m\u001b[1;33m\u001b[0m\u001b[0m\n\u001b[1;32m-> 1457\u001b[1;33m                     \u001b[0moptimizer_profile\u001b[0m \u001b[1;33m=\u001b[0m \u001b[0moptimizer\u001b[0m\u001b[1;33m(\u001b[0m\u001b[0mfgraph\u001b[0m\u001b[1;33m)\u001b[0m\u001b[1;33m\u001b[0m\u001b[0m\n\u001b[0m\u001b[0;32m   1458\u001b[0m \u001b[1;33m\u001b[0m\u001b[0m\n\u001b[0;32m   1459\u001b[0m                 \u001b[0mend_optimizer\u001b[0m \u001b[1;33m=\u001b[0m \u001b[0mtime\u001b[0m\u001b[1;33m.\u001b[0m\u001b[0mtime\u001b[0m\u001b[1;33m(\u001b[0m\u001b[1;33m)\u001b[0m\u001b[1;33m\u001b[0m\u001b[0m\n",
      "\u001b[1;32m/opt/conda/Anaconda3/lib/python3.4/site-packages/theano/gof/opt.py\u001b[0m in \u001b[0;36m__call__\u001b[1;34m(self, fgraph)\u001b[0m\n\u001b[0;32m     99\u001b[0m \u001b[1;33m\u001b[0m\u001b[0m\n\u001b[0;32m    100\u001b[0m         \"\"\"\n\u001b[1;32m--> 101\u001b[1;33m         \u001b[1;32mreturn\u001b[0m \u001b[0mself\u001b[0m\u001b[1;33m.\u001b[0m\u001b[0moptimize\u001b[0m\u001b[1;33m(\u001b[0m\u001b[0mfgraph\u001b[0m\u001b[1;33m)\u001b[0m\u001b[1;33m\u001b[0m\u001b[0m\n\u001b[0m\u001b[0;32m    102\u001b[0m \u001b[1;33m\u001b[0m\u001b[0m\n\u001b[0;32m    103\u001b[0m     \u001b[1;32mdef\u001b[0m \u001b[0madd_requirements\u001b[0m\u001b[1;33m(\u001b[0m\u001b[0mself\u001b[0m\u001b[1;33m,\u001b[0m \u001b[0mfgraph\u001b[0m\u001b[1;33m)\u001b[0m\u001b[1;33m:\u001b[0m\u001b[1;33m\u001b[0m\u001b[0m\n",
      "\u001b[1;32m/opt/conda/Anaconda3/lib/python3.4/site-packages/theano/gof/opt.py\u001b[0m in \u001b[0;36moptimize\u001b[1;34m(self, fgraph, *args, **kwargs)\u001b[0m\n\u001b[0;32m     87\u001b[0m             \u001b[0morig\u001b[0m \u001b[1;33m=\u001b[0m \u001b[0mtheano\u001b[0m\u001b[1;33m.\u001b[0m\u001b[0mtensor\u001b[0m\u001b[1;33m.\u001b[0m\u001b[0mbasic\u001b[0m\u001b[1;33m.\u001b[0m\u001b[0mconstant\u001b[0m\u001b[1;33m.\u001b[0m\u001b[0menable\u001b[0m\u001b[1;33m\u001b[0m\u001b[0m\n\u001b[0;32m     88\u001b[0m             \u001b[0mtheano\u001b[0m\u001b[1;33m.\u001b[0m\u001b[0mtensor\u001b[0m\u001b[1;33m.\u001b[0m\u001b[0mbasic\u001b[0m\u001b[1;33m.\u001b[0m\u001b[0mconstant\u001b[0m\u001b[1;33m.\u001b[0m\u001b[0menable\u001b[0m \u001b[1;33m=\u001b[0m \u001b[1;32mFalse\u001b[0m\u001b[1;33m\u001b[0m\u001b[0m\n\u001b[1;32m---> 89\u001b[1;33m             \u001b[0mret\u001b[0m \u001b[1;33m=\u001b[0m \u001b[0mself\u001b[0m\u001b[1;33m.\u001b[0m\u001b[0mapply\u001b[0m\u001b[1;33m(\u001b[0m\u001b[0mfgraph\u001b[0m\u001b[1;33m,\u001b[0m \u001b[1;33m*\u001b[0m\u001b[0margs\u001b[0m\u001b[1;33m,\u001b[0m \u001b[1;33m**\u001b[0m\u001b[0mkwargs\u001b[0m\u001b[1;33m)\u001b[0m\u001b[1;33m\u001b[0m\u001b[0m\n\u001b[0m\u001b[0;32m     90\u001b[0m         \u001b[1;32mfinally\u001b[0m\u001b[1;33m:\u001b[0m\u001b[1;33m\u001b[0m\u001b[0m\n\u001b[0;32m     91\u001b[0m             \u001b[0mtheano\u001b[0m\u001b[1;33m.\u001b[0m\u001b[0mtensor\u001b[0m\u001b[1;33m.\u001b[0m\u001b[0mbasic\u001b[0m\u001b[1;33m.\u001b[0m\u001b[0mconstant\u001b[0m\u001b[1;33m.\u001b[0m\u001b[0menable\u001b[0m \u001b[1;33m=\u001b[0m \u001b[0morig\u001b[0m\u001b[1;33m\u001b[0m\u001b[0m\n",
      "\u001b[1;32m/opt/conda/Anaconda3/lib/python3.4/site-packages/theano/gof/opt.py\u001b[0m in \u001b[0;36mapply\u001b[1;34m(self, fgraph)\u001b[0m\n\u001b[0;32m    228\u001b[0m             \u001b[1;32mtry\u001b[0m\u001b[1;33m:\u001b[0m\u001b[1;33m\u001b[0m\u001b[0m\n\u001b[0;32m    229\u001b[0m                 \u001b[0mt0\u001b[0m \u001b[1;33m=\u001b[0m \u001b[0mtime\u001b[0m\u001b[1;33m.\u001b[0m\u001b[0mtime\u001b[0m\u001b[1;33m(\u001b[0m\u001b[1;33m)\u001b[0m\u001b[1;33m\u001b[0m\u001b[0m\n\u001b[1;32m--> 230\u001b[1;33m                 \u001b[0msub_prof\u001b[0m \u001b[1;33m=\u001b[0m \u001b[0moptimizer\u001b[0m\u001b[1;33m.\u001b[0m\u001b[0moptimize\u001b[0m\u001b[1;33m(\u001b[0m\u001b[0mfgraph\u001b[0m\u001b[1;33m)\u001b[0m\u001b[1;33m\u001b[0m\u001b[0m\n\u001b[0m\u001b[0;32m    231\u001b[0m                 \u001b[0ml\u001b[0m\u001b[1;33m.\u001b[0m\u001b[0mappend\u001b[0m\u001b[1;33m(\u001b[0m\u001b[0mfloat\u001b[0m\u001b[1;33m(\u001b[0m\u001b[0mtime\u001b[0m\u001b[1;33m.\u001b[0m\u001b[0mtime\u001b[0m\u001b[1;33m(\u001b[0m\u001b[1;33m)\u001b[0m \u001b[1;33m-\u001b[0m \u001b[0mt0\u001b[0m\u001b[1;33m)\u001b[0m\u001b[1;33m)\u001b[0m\u001b[1;33m\u001b[0m\u001b[0m\n\u001b[0;32m    232\u001b[0m                 \u001b[0msub_profs\u001b[0m\u001b[1;33m.\u001b[0m\u001b[0mappend\u001b[0m\u001b[1;33m(\u001b[0m\u001b[0msub_prof\u001b[0m\u001b[1;33m)\u001b[0m\u001b[1;33m\u001b[0m\u001b[0m\n",
      "\u001b[1;32m/opt/conda/Anaconda3/lib/python3.4/site-packages/theano/gof/opt.py\u001b[0m in \u001b[0;36moptimize\u001b[1;34m(self, fgraph, *args, **kwargs)\u001b[0m\n\u001b[0;32m     87\u001b[0m             \u001b[0morig\u001b[0m \u001b[1;33m=\u001b[0m \u001b[0mtheano\u001b[0m\u001b[1;33m.\u001b[0m\u001b[0mtensor\u001b[0m\u001b[1;33m.\u001b[0m\u001b[0mbasic\u001b[0m\u001b[1;33m.\u001b[0m\u001b[0mconstant\u001b[0m\u001b[1;33m.\u001b[0m\u001b[0menable\u001b[0m\u001b[1;33m\u001b[0m\u001b[0m\n\u001b[0;32m     88\u001b[0m             \u001b[0mtheano\u001b[0m\u001b[1;33m.\u001b[0m\u001b[0mtensor\u001b[0m\u001b[1;33m.\u001b[0m\u001b[0mbasic\u001b[0m\u001b[1;33m.\u001b[0m\u001b[0mconstant\u001b[0m\u001b[1;33m.\u001b[0m\u001b[0menable\u001b[0m \u001b[1;33m=\u001b[0m \u001b[1;32mFalse\u001b[0m\u001b[1;33m\u001b[0m\u001b[0m\n\u001b[1;32m---> 89\u001b[1;33m             \u001b[0mret\u001b[0m \u001b[1;33m=\u001b[0m \u001b[0mself\u001b[0m\u001b[1;33m.\u001b[0m\u001b[0mapply\u001b[0m\u001b[1;33m(\u001b[0m\u001b[0mfgraph\u001b[0m\u001b[1;33m,\u001b[0m \u001b[1;33m*\u001b[0m\u001b[0margs\u001b[0m\u001b[1;33m,\u001b[0m \u001b[1;33m**\u001b[0m\u001b[0mkwargs\u001b[0m\u001b[1;33m)\u001b[0m\u001b[1;33m\u001b[0m\u001b[0m\n\u001b[0m\u001b[0;32m     90\u001b[0m         \u001b[1;32mfinally\u001b[0m\u001b[1;33m:\u001b[0m\u001b[1;33m\u001b[0m\u001b[0m\n\u001b[0;32m     91\u001b[0m             \u001b[0mtheano\u001b[0m\u001b[1;33m.\u001b[0m\u001b[0mtensor\u001b[0m\u001b[1;33m.\u001b[0m\u001b[0mbasic\u001b[0m\u001b[1;33m.\u001b[0m\u001b[0mconstant\u001b[0m\u001b[1;33m.\u001b[0m\u001b[0menable\u001b[0m \u001b[1;33m=\u001b[0m \u001b[0morig\u001b[0m\u001b[1;33m\u001b[0m\u001b[0m\n",
      "\u001b[1;32m/opt/conda/Anaconda3/lib/python3.4/site-packages/theano/tensor/opt.py\u001b[0m in \u001b[0;36minplace_elemwise_optimizer\u001b[1;34m(fgraph)\u001b[0m\n\u001b[0;32m    409\u001b[0m                         \u001b[0mnb_change_no_validate\u001b[0m \u001b[1;33m+=\u001b[0m \u001b[1;36m1\u001b[0m\u001b[1;33m\u001b[0m\u001b[0m\n\u001b[0;32m    410\u001b[0m                         \u001b[1;32mif\u001b[0m \u001b[0mnb_change_no_validate\u001b[0m \u001b[1;33m>=\u001b[0m \u001b[0mcheck_each_change\u001b[0m\u001b[1;33m:\u001b[0m\u001b[1;33m\u001b[0m\u001b[0m\n\u001b[1;32m--> 411\u001b[1;33m                             \u001b[0mfgraph\u001b[0m\u001b[1;33m.\u001b[0m\u001b[0mvalidate\u001b[0m\u001b[1;33m(\u001b[0m\u001b[1;33m)\u001b[0m\u001b[1;33m\u001b[0m\u001b[0m\n\u001b[0m\u001b[0;32m    412\u001b[0m                             \u001b[0mchk\u001b[0m \u001b[1;33m=\u001b[0m \u001b[0mfgraph\u001b[0m\u001b[1;33m.\u001b[0m\u001b[0mcheckpoint\u001b[0m\u001b[1;33m(\u001b[0m\u001b[1;33m)\u001b[0m\u001b[1;33m\u001b[0m\u001b[0m\n\u001b[0;32m    413\u001b[0m                             \u001b[0mnb_change_no_validate\u001b[0m \u001b[1;33m=\u001b[0m \u001b[1;36m0\u001b[0m\u001b[1;33m\u001b[0m\u001b[0m\n",
      "\u001b[1;32m/opt/conda/Anaconda3/lib/python3.4/site-packages/theano/gof/toolbox.py\u001b[0m in \u001b[0;36mvalidate_\u001b[1;34m(self, fgraph)\u001b[0m\n\u001b[0;32m    230\u001b[0m         \u001b[0mt0\u001b[0m \u001b[1;33m=\u001b[0m \u001b[0mtime\u001b[0m\u001b[1;33m.\u001b[0m\u001b[0mtime\u001b[0m\u001b[1;33m(\u001b[0m\u001b[1;33m)\u001b[0m\u001b[1;33m\u001b[0m\u001b[0m\n\u001b[0;32m    231\u001b[0m         \u001b[1;32mtry\u001b[0m\u001b[1;33m:\u001b[0m\u001b[1;33m\u001b[0m\u001b[0m\n\u001b[1;32m--> 232\u001b[1;33m             \u001b[0mret\u001b[0m \u001b[1;33m=\u001b[0m \u001b[0mfgraph\u001b[0m\u001b[1;33m.\u001b[0m\u001b[0mexecute_callbacks\u001b[0m\u001b[1;33m(\u001b[0m\u001b[1;34m'validate'\u001b[0m\u001b[1;33m)\u001b[0m\u001b[1;33m\u001b[0m\u001b[0m\n\u001b[0m\u001b[0;32m    233\u001b[0m         \u001b[1;32mexcept\u001b[0m \u001b[0mException\u001b[0m \u001b[1;32mas\u001b[0m \u001b[0me\u001b[0m\u001b[1;33m:\u001b[0m\u001b[1;33m\u001b[0m\u001b[0m\n\u001b[0;32m    234\u001b[0m             \u001b[0mcf\u001b[0m \u001b[1;33m=\u001b[0m \u001b[0minspect\u001b[0m\u001b[1;33m.\u001b[0m\u001b[0mcurrentframe\u001b[0m\u001b[1;33m(\u001b[0m\u001b[1;33m)\u001b[0m\u001b[1;33m\u001b[0m\u001b[0m\n",
      "\u001b[1;32m/opt/conda/Anaconda3/lib/python3.4/site-packages/theano/gof/fg.py\u001b[0m in \u001b[0;36mexecute_callbacks\u001b[1;34m(self, name, *args, **kwargs)\u001b[0m\n\u001b[0;32m    674\u001b[0m                 \u001b[1;32mcontinue\u001b[0m\u001b[1;33m\u001b[0m\u001b[0m\n\u001b[0;32m    675\u001b[0m             \u001b[0mtf0\u001b[0m \u001b[1;33m=\u001b[0m \u001b[0mtime\u001b[0m\u001b[1;33m.\u001b[0m\u001b[0mtime\u001b[0m\u001b[1;33m(\u001b[0m\u001b[1;33m)\u001b[0m\u001b[1;33m\u001b[0m\u001b[0m\n\u001b[1;32m--> 676\u001b[1;33m             \u001b[0mfn\u001b[0m\u001b[1;33m(\u001b[0m\u001b[0mself\u001b[0m\u001b[1;33m,\u001b[0m \u001b[1;33m*\u001b[0m\u001b[0margs\u001b[0m\u001b[1;33m,\u001b[0m \u001b[1;33m**\u001b[0m\u001b[0mkwargs\u001b[0m\u001b[1;33m)\u001b[0m\u001b[1;33m\u001b[0m\u001b[0m\n\u001b[0m\u001b[0;32m    677\u001b[0m             \u001b[0mself\u001b[0m\u001b[1;33m.\u001b[0m\u001b[0mexecute_callbacks_times\u001b[0m\u001b[1;33m[\u001b[0m\u001b[0mfeature\u001b[0m\u001b[1;33m]\u001b[0m \u001b[1;33m+=\u001b[0m \u001b[0mtime\u001b[0m\u001b[1;33m.\u001b[0m\u001b[0mtime\u001b[0m\u001b[1;33m(\u001b[0m\u001b[1;33m)\u001b[0m \u001b[1;33m-\u001b[0m \u001b[0mtf0\u001b[0m\u001b[1;33m\u001b[0m\u001b[0m\n\u001b[0;32m    678\u001b[0m         \u001b[0mself\u001b[0m\u001b[1;33m.\u001b[0m\u001b[0mexecute_callbacks_time\u001b[0m \u001b[1;33m+=\u001b[0m \u001b[0mtime\u001b[0m\u001b[1;33m.\u001b[0m\u001b[0mtime\u001b[0m\u001b[1;33m(\u001b[0m\u001b[1;33m)\u001b[0m \u001b[1;33m-\u001b[0m \u001b[0mt0\u001b[0m\u001b[1;33m\u001b[0m\u001b[0m\n",
      "\u001b[1;32m/opt/conda/Anaconda3/lib/python3.4/site-packages/theano/gof/destroyhandler.py\u001b[0m in \u001b[0;36mvalidate\u001b[1;34m(self, fgraph)\u001b[0m\n\u001b[0;32m    902\u001b[0m         \"\"\"\n\u001b[0;32m    903\u001b[0m         \u001b[1;32mif\u001b[0m \u001b[0mself\u001b[0m\u001b[1;33m.\u001b[0m\u001b[0mdestroyers\u001b[0m\u001b[1;33m:\u001b[0m\u001b[1;33m\u001b[0m\u001b[0m\n\u001b[1;32m--> 904\u001b[1;33m             \u001b[0mords\u001b[0m \u001b[1;33m=\u001b[0m \u001b[0mself\u001b[0m\u001b[1;33m.\u001b[0m\u001b[0morderings\u001b[0m\u001b[1;33m(\u001b[0m\u001b[0mfgraph\u001b[0m\u001b[1;33m)\u001b[0m\u001b[1;33m\u001b[0m\u001b[0m\n\u001b[0m\u001b[0;32m    905\u001b[0m \u001b[1;33m\u001b[0m\u001b[0m\n\u001b[0;32m    906\u001b[0m             \u001b[1;32mif\u001b[0m \u001b[0m_contains_cycle\u001b[0m\u001b[1;33m(\u001b[0m\u001b[0mfgraph\u001b[0m\u001b[1;33m,\u001b[0m \u001b[0mords\u001b[0m\u001b[1;33m)\u001b[0m\u001b[1;33m:\u001b[0m\u001b[1;33m\u001b[0m\u001b[0m\n",
      "\u001b[1;32m/opt/conda/Anaconda3/lib/python3.4/site-packages/theano/gof/destroyhandler.py\u001b[0m in \u001b[0;36morderings\u001b[1;34m(self, fgraph)\u001b[0m\n\u001b[0;32m   1017\u001b[0m                     \u001b[1;32mfor\u001b[0m \u001b[0mr\u001b[0m \u001b[1;32min\u001b[0m \u001b[0mroot_impact\u001b[0m\u001b[1;33m:\u001b[0m\u001b[1;33m\u001b[0m\u001b[0m\n\u001b[0;32m   1018\u001b[0m                         \u001b[1;32massert\u001b[0m \u001b[1;32mnot\u001b[0m \u001b[1;33m[\u001b[0m\u001b[0ma\u001b[0m \u001b[1;32mfor\u001b[0m \u001b[0ma\u001b[0m\u001b[1;33m,\u001b[0m \u001b[0mc\u001b[0m \u001b[1;32min\u001b[0m \u001b[0mself\u001b[0m\u001b[1;33m.\u001b[0m\u001b[0mclients\u001b[0m\u001b[1;33m[\u001b[0m\u001b[0mr\u001b[0m\u001b[1;33m]\u001b[0m\u001b[1;33m.\u001b[0m\u001b[0mitems\u001b[0m\u001b[1;33m(\u001b[0m\u001b[1;33m)\u001b[0m \u001b[1;32mif\u001b[0m \u001b[1;32mnot\u001b[0m \u001b[0mc\u001b[0m\u001b[1;33m]\u001b[0m\u001b[1;33m\u001b[0m\u001b[0m\n\u001b[1;32m-> 1019\u001b[1;33m                         \u001b[0mroot_clients\u001b[0m\u001b[1;33m.\u001b[0m\u001b[0mupdate\u001b[0m\u001b[1;33m(\u001b[0m\u001b[1;33m[\u001b[0m\u001b[0ma\u001b[0m \u001b[1;32mfor\u001b[0m \u001b[0ma\u001b[0m\u001b[1;33m,\u001b[0m \u001b[0mc\u001b[0m \u001b[1;32min\u001b[0m \u001b[0mself\u001b[0m\u001b[1;33m.\u001b[0m\u001b[0mclients\u001b[0m\u001b[1;33m[\u001b[0m\u001b[0mr\u001b[0m\u001b[1;33m]\u001b[0m\u001b[1;33m.\u001b[0m\u001b[0mitems\u001b[0m\u001b[1;33m(\u001b[0m\u001b[1;33m)\u001b[0m \u001b[1;32mif\u001b[0m \u001b[0mc\u001b[0m\u001b[1;33m]\u001b[0m\u001b[1;33m)\u001b[0m\u001b[1;33m\u001b[0m\u001b[0m\n\u001b[0m\u001b[0;32m   1020\u001b[0m                     \u001b[0mroot_clients\u001b[0m\u001b[1;33m.\u001b[0m\u001b[0mremove\u001b[0m\u001b[1;33m(\u001b[0m\u001b[0mapp\u001b[0m\u001b[1;33m)\u001b[0m\u001b[1;33m\u001b[0m\u001b[0m\n\u001b[0;32m   1021\u001b[0m                     \u001b[1;32mif\u001b[0m \u001b[0mroot_clients\u001b[0m\u001b[1;33m:\u001b[0m\u001b[1;33m\u001b[0m\u001b[0m\n",
      "\u001b[1;32m/opt/conda/Anaconda3/lib/python3.4/site-packages/theano/misc/ordered_set.py\u001b[0m in \u001b[0;36mupdate\u001b[1;34m(self, iterable)\u001b[0m\n\u001b[0;32m     83\u001b[0m     \u001b[1;32mdef\u001b[0m \u001b[0mupdate\u001b[0m\u001b[1;33m(\u001b[0m\u001b[0mself\u001b[0m\u001b[1;33m,\u001b[0m \u001b[0miterable\u001b[0m\u001b[1;33m)\u001b[0m\u001b[1;33m:\u001b[0m\u001b[1;33m\u001b[0m\u001b[0m\n\u001b[0;32m     84\u001b[0m         \u001b[0mcheck_deterministic\u001b[0m\u001b[1;33m(\u001b[0m\u001b[0miterable\u001b[0m\u001b[1;33m)\u001b[0m\u001b[1;33m\u001b[0m\u001b[0m\n\u001b[1;32m---> 85\u001b[1;33m         \u001b[0mself\u001b[0m \u001b[1;33m|=\u001b[0m \u001b[0miterable\u001b[0m\u001b[1;33m\u001b[0m\u001b[0m\n\u001b[0m\u001b[0;32m     86\u001b[0m \u001b[1;33m\u001b[0m\u001b[0m\n\u001b[0;32m     87\u001b[0m     \u001b[1;32mdef\u001b[0m \u001b[0m__init__\u001b[0m\u001b[1;33m(\u001b[0m\u001b[0mself\u001b[0m\u001b[1;33m,\u001b[0m \u001b[0miterable\u001b[0m\u001b[1;33m=\u001b[0m\u001b[1;32mNone\u001b[0m\u001b[1;33m)\u001b[0m\u001b[1;33m:\u001b[0m\u001b[1;33m\u001b[0m\u001b[0m\n",
      "\u001b[1;32m/opt/conda/Anaconda3/lib/python3.4/_collections_abc.py\u001b[0m in \u001b[0;36m__ior__\u001b[1;34m(self, it)\u001b[0m\n\u001b[0;32m    366\u001b[0m     \u001b[1;32mdef\u001b[0m \u001b[0m__ior__\u001b[0m\u001b[1;33m(\u001b[0m\u001b[0mself\u001b[0m\u001b[1;33m,\u001b[0m \u001b[0mit\u001b[0m\u001b[1;33m)\u001b[0m\u001b[1;33m:\u001b[0m\u001b[1;33m\u001b[0m\u001b[0m\n\u001b[0;32m    367\u001b[0m         \u001b[1;32mfor\u001b[0m \u001b[0mvalue\u001b[0m \u001b[1;32min\u001b[0m \u001b[0mit\u001b[0m\u001b[1;33m:\u001b[0m\u001b[1;33m\u001b[0m\u001b[0m\n\u001b[1;32m--> 368\u001b[1;33m             \u001b[0mself\u001b[0m\u001b[1;33m.\u001b[0m\u001b[0madd\u001b[0m\u001b[1;33m(\u001b[0m\u001b[0mvalue\u001b[0m\u001b[1;33m)\u001b[0m\u001b[1;33m\u001b[0m\u001b[0m\n\u001b[0m\u001b[0;32m    369\u001b[0m         \u001b[1;32mreturn\u001b[0m \u001b[0mself\u001b[0m\u001b[1;33m\u001b[0m\u001b[0m\n\u001b[0;32m    370\u001b[0m \u001b[1;33m\u001b[0m\u001b[0m\n",
      "\u001b[1;32m/opt/conda/Anaconda3/lib/python3.4/site-packages/theano/misc/ordered_set.py\u001b[0m in \u001b[0;36madd\u001b[1;34m(self, key)\u001b[0m\n\u001b[0;32m    107\u001b[0m             \u001b[0mlast\u001b[0m \u001b[1;33m=\u001b[0m \u001b[0mroot\u001b[0m\u001b[1;33m.\u001b[0m\u001b[0mprev\u001b[0m\u001b[1;33m\u001b[0m\u001b[0m\n\u001b[0;32m    108\u001b[0m             \u001b[0mlink\u001b[0m\u001b[1;33m.\u001b[0m\u001b[0mprev\u001b[0m\u001b[1;33m,\u001b[0m \u001b[0mlink\u001b[0m\u001b[1;33m.\u001b[0m\u001b[0mnext\u001b[0m\u001b[1;33m,\u001b[0m \u001b[0mlink\u001b[0m\u001b[1;33m.\u001b[0m\u001b[0mkey\u001b[0m \u001b[1;33m=\u001b[0m \u001b[0mlast\u001b[0m\u001b[1;33m,\u001b[0m \u001b[0mweakref\u001b[0m\u001b[1;33m.\u001b[0m\u001b[0mref\u001b[0m\u001b[1;33m(\u001b[0m\u001b[0mroot\u001b[0m\u001b[1;33m)\u001b[0m\u001b[1;33m,\u001b[0m \u001b[0mkey\u001b[0m\u001b[1;33m\u001b[0m\u001b[0m\n\u001b[1;32m--> 109\u001b[1;33m             \u001b[0mlast\u001b[0m\u001b[1;33m(\u001b[0m\u001b[1;33m)\u001b[0m\u001b[1;33m.\u001b[0m\u001b[0mnext\u001b[0m \u001b[1;33m=\u001b[0m \u001b[0mroot\u001b[0m\u001b[1;33m.\u001b[0m\u001b[0mprev\u001b[0m \u001b[1;33m=\u001b[0m \u001b[0mweakref\u001b[0m\u001b[1;33m.\u001b[0m\u001b[0mref\u001b[0m\u001b[1;33m(\u001b[0m\u001b[0mlink\u001b[0m\u001b[1;33m)\u001b[0m\u001b[1;33m\u001b[0m\u001b[0m\n\u001b[0m\u001b[0;32m    110\u001b[0m \u001b[1;33m\u001b[0m\u001b[0m\n\u001b[0;32m    111\u001b[0m     \u001b[1;32mdef\u001b[0m \u001b[0munion\u001b[0m\u001b[1;33m(\u001b[0m\u001b[0mself\u001b[0m\u001b[1;33m,\u001b[0m \u001b[0ms\u001b[0m\u001b[1;33m)\u001b[0m\u001b[1;33m:\u001b[0m\u001b[1;33m\u001b[0m\u001b[0m\n",
      "\u001b[1;31mKeyboardInterrupt\u001b[0m: "
     ]
    }
   ],
   "source": [
    "from sklearn.metrics import log_loss\n",
    "pred_test_ave = True\n",
    "num = 1\n",
    "for i in range(num):\n",
    "    print('Starting iteration {0}'.format(i+1))\n",
    "    model = Sequential()\n",
    "    model.add(Dense(512, input_dim=X_train.shape[1]))\n",
    "    model.add(PReLU())\n",
    "    model.add(BatchNormalization())\n",
    "    model.add(Dropout(0.1))\n",
    "\n",
    "    model.add(Dense(37))\n",
    "    model.add(Activation('softmax'))\n",
    "    model.compile(loss='categorical_crossentropy', optimizer='adam')\n",
    "\n",
    "    model.fit(np.vstack([X_train.as_matrix(), X_test.as_matrix()]),\n",
    "              np.vstack([Y_train.as_matrix(), Y_test.as_matrix()]), nb_epoch=4, batch_size = 128, validation_split=0.3)\n",
    "\n",
    "#     score_test = model.evaluate(X_test.as_matrix(), Y_test.as_matrix(), batch_size=128)\n",
    "#     score_train = model.evaluate(X_train.as_matrix(), Y_train.as_matrix(), batch_size=128)\n",
    "    pred_test = model.predict(X_test.as_matrix(), batch_size = 128)\n",
    "    pred_train = model.predict(X_train.as_matrix(), batch_size = 128)\n",
    "    #     err_train = log_loss(pred_train, Y_train)\n",
    "    print('Train error: ', log_loss(Y_train, pred_train))\n",
    "    print('Validation error: ', log_loss(Y_test, pred_test))\n",
    "    if i==0:\n",
    "        score_test_ave = pred_test.copy()/num\n",
    "    else: \n",
    "        score_test_ave += pred_test/num\n",
    "print('Average validation error: ', log_loss(Y_test, pred_test_ave))"
   ]
  }
 ],
 "metadata": {
  "kernelspec": {
   "display_name": "Python 3",
   "language": "python",
   "name": "python3"
  },
  "language_info": {
   "codemirror_mode": {
    "name": "ipython",
    "version": 3
   },
   "file_extension": ".py",
   "mimetype": "text/x-python",
   "name": "python",
   "nbconvert_exporter": "python",
   "pygments_lexer": "ipython3",
   "version": "3.5.1"
  }
 },
 "nbformat": 4,
 "nbformat_minor": 0
}
