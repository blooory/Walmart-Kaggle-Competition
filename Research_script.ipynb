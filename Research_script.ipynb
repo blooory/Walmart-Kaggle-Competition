{
 "cells": [
  {
   "cell_type": "markdown",
   "metadata": {},
   "source": [
    "# This script contains\n",
    "    1. Initial descriptive analysis\n",
    "    2. Data aggregation, which is not written great, but very effective in memory."
   ]
  },
  {
   "cell_type": "code",
   "execution_count": 1,
   "metadata": {
    "collapsed": true
   },
   "outputs": [],
   "source": [
    "import pandas as pd\n",
    "import numpy as np"
   ]
  },
  {
   "cell_type": "code",
   "execution_count": 2,
   "metadata": {
    "collapsed": false
   },
   "outputs": [],
   "source": [
    "tr = pd.read_csv('./Data/train.csv')\n",
    "te = pd.read_csv('./Data/test.csv')\n",
    "sn = pd.read_csv('./Data/sample_submission.csv')"
   ]
  },
  {
   "cell_type": "code",
   "execution_count": 8,
   "metadata": {
    "collapsed": false
   },
   "outputs": [
    {
     "data": {
      "text/html": [
       "<div>\n",
       "<table border=\"1\" class=\"dataframe\">\n",
       "  <thead>\n",
       "    <tr style=\"text-align: right;\">\n",
       "      <th></th>\n",
       "      <th>TripType</th>\n",
       "      <th>VisitNumber</th>\n",
       "      <th>Weekday</th>\n",
       "      <th>Upc</th>\n",
       "      <th>ScanCount</th>\n",
       "      <th>DepartmentDescription</th>\n",
       "      <th>FinelineNumber</th>\n",
       "    </tr>\n",
       "  </thead>\n",
       "  <tbody>\n",
       "    <tr>\n",
       "      <th>0</th>\n",
       "      <td>999</td>\n",
       "      <td>5</td>\n",
       "      <td>Friday</td>\n",
       "      <td>68113152929</td>\n",
       "      <td>-1</td>\n",
       "      <td>FINANCIAL SERVICES</td>\n",
       "      <td>1000</td>\n",
       "    </tr>\n",
       "  </tbody>\n",
       "</table>\n",
       "</div>"
      ],
      "text/plain": [
       "   TripType  VisitNumber Weekday          Upc  ScanCount  \\\n",
       "0       999            5  Friday  68113152929         -1   \n",
       "\n",
       "  DepartmentDescription  FinelineNumber  \n",
       "0    FINANCIAL SERVICES            1000  "
      ]
     },
     "execution_count": 8,
     "metadata": {},
     "output_type": "execute_result"
    }
   ],
   "source": [
    "tr.head(1)"
   ]
  },
  {
   "cell_type": "code",
   "execution_count": 4,
   "metadata": {
    "collapsed": false
   },
   "outputs": [
    {
     "data": {
      "text/html": [
       "<div>\n",
       "<table border=\"1\" class=\"dataframe\">\n",
       "  <thead>\n",
       "    <tr style=\"text-align: right;\">\n",
       "      <th></th>\n",
       "      <th>VisitNumber</th>\n",
       "      <th>Weekday</th>\n",
       "      <th>Upc</th>\n",
       "      <th>ScanCount</th>\n",
       "      <th>DepartmentDescription</th>\n",
       "      <th>FinelineNumber</th>\n",
       "    </tr>\n",
       "  </thead>\n",
       "  <tbody>\n",
       "    <tr>\n",
       "      <th>0</th>\n",
       "      <td>1</td>\n",
       "      <td>Friday</td>\n",
       "      <td>72503389714</td>\n",
       "      <td>1</td>\n",
       "      <td>SHOES</td>\n",
       "      <td>3002</td>\n",
       "    </tr>\n",
       "  </tbody>\n",
       "</table>\n",
       "</div>"
      ],
      "text/plain": [
       "   VisitNumber Weekday          Upc  ScanCount DepartmentDescription  \\\n",
       "0            1  Friday  72503389714          1                 SHOES   \n",
       "\n",
       "   FinelineNumber  \n",
       "0            3002  "
      ]
     },
     "execution_count": 4,
     "metadata": {},
     "output_type": "execute_result"
    }
   ],
   "source": [
    "te.head(1)"
   ]
  },
  {
   "cell_type": "markdown",
   "metadata": {},
   "source": [
    "# Descriptive analysis. All prints are in Russian"
   ]
  },
  {
   "cell_type": "markdown",
   "metadata": {},
   "source": [
    "#### Сначала на целевую переменную"
   ]
  },
  {
   "cell_type": "code",
   "execution_count": 51,
   "metadata": {
    "collapsed": true
   },
   "outputs": [
    {
     "name": "stdout",
     "output_type": "stream",
     "text": [
      "Всего категорий: 38\n",
      "Помним, что 999 - это остальное\n"
     ]
    },
    {
     "data": {
      "text/plain": [
       "<matplotlib.axes._subplots.AxesSubplot at 0x7fc83c683940>"
      ]
     },
     "execution_count": 51,
     "metadata": {},
     "output_type": "execute_result"
    },
    {
     "data": {
      "image/png": "[encoded data removed]",
      "text/plain": [
       "<matplotlib.figure.Figure at 0x7fc83c68e438>"
      ]
     },
     "metadata": {},
     "output_type": "display_data"
    }
   ],
   "source": [
    "qq = tr.groupby('VisitNumber').TripType.first()\n",
    "# print('Наиболее часто встречаюющиеся категории:\\n',qq.value_counts()[:10])\n",
    "print('Всего категорий:', qq.nunique())\n",
    "print('Помним, что 999 - это остальное')\n",
    "qq.value_counts().plot(kind = 'bar', figsize = (10,5))"
   ]
  },
  {
   "cell_type": "code",
   "execution_count": 27,
   "metadata": {
    "collapsed": false
   },
   "outputs": [
    {
     "name": "stdout",
     "output_type": "stream",
     "text": [
      "Всего визитов одинаковое количество. В обучающей: 95674, в тестовой 95674\n"
     ]
    }
   ],
   "source": [
    "print('Всего визитов одинаковое количество. В обучающей: {0}, в тестовой {1}'\n",
    "      .format(tr.VisitNumber.nunique(), te.VisitNumber.nunique()))"
   ]
  },
  {
   "cell_type": "code",
   "execution_count": 12,
   "metadata": {
    "collapsed": true
   },
   "outputs": [
    {
     "name": "stdout",
     "output_type": "stream",
     "text": [
      "Всего видов товаров. В обучающей: 97714, в тестовой 98147.\n",
      "Число товаров, которых нет в обучающей выборке 26980, в тестовой 26547\n",
      "Популярные товары в обучающей выборке: \n",
      " 4011           7657\n",
      "60538862097    2501\n",
      "7874235186     2067\n",
      "7874235187     1883\n",
      "4046           1652\n",
      "dtype: int64\n",
      "\n",
      "В тестовой\n",
      " 4011           7558\n",
      "60538862097    2433\n",
      "7874235186     2073\n",
      "7874235187     1901\n",
      "4046           1665\n",
      "dtype: int64\n",
      "Число NaN в обучающей 4129, в тестовой 3986\n"
     ]
    }
   ],
   "source": [
    "print('Всего видов товаров. В обучающей: {0}, в тестовой {1}.\\nЧисло товаров, которых нет в обучающей выборке {2}, \\\n",
    "в тестовой {3}'\n",
    "      .format(tr.Upc.nunique(), te.Upc.nunique(), \n",
    "              len(set(te.Upc.unique()).difference(set(tr.Upc.unique()))), \n",
    "              len(set(tr.Upc.unique()).difference(set(te.Upc.unique())))))\n",
    "print('Популярные товары в обучающей выборке: \\n', tr.Upc.value_counts().iloc[:5])\n",
    "print()\n",
    "print('В тестовой\\n',te.Upc.value_counts().iloc[:5])\n",
    "print('Число NaN в обучающей {0}, в тестовой {1}'.format(pd.isnull(tr.Upc).sum(), pd.isnull(te.Upc).sum() ))"
   ]
  },
  {
   "cell_type": "code",
   "execution_count": 45,
   "metadata": {
    "collapsed": true
   },
   "outputs": [
    {
     "name": "stdout",
     "output_type": "stream",
     "text": [
      "Посмотрим на количество покупаемых товаров в обучающей и тестовой. Не должны заметить сильных различий. Особенно интересны 1 и -1. Пропорции очень очень похожи, спасибо Уолмарт\n",
      "\n",
      " 1    561489\n",
      " 2     53002\n",
      "-1     14394\n",
      " 3      9445\n",
      " 4      4536\n",
      "dtype: int64 \n",
      "\n",
      "  1    567311\n",
      " 2     53483\n",
      "-1     14629\n",
      " 3      9457\n",
      " 4      4586\n",
      "dtype: int64\n"
     ]
    }
   ],
   "source": [
    "print('Посмотрим на количество покупаемых товаров в обучающей и тестовой. Не должны заметить сильных различий. \\\n",
    "Особенно интересны 1 и -1. Пропорции очень очень похожи, спасибо Уолмарт\\n')\n",
    "print(tr.ScanCount.value_counts()[:5],'\\n\\n', te.ScanCount.value_counts()[:5] )"
   ]
  },
  {
   "cell_type": "code",
   "execution_count": 63,
   "metadata": {
    "collapsed": true
   },
   "outputs": [
    {
     "name": "stdout",
     "output_type": "stream",
     "text": [
      "Пропорции топа различных категорий товаров тоже почти совпадают.\n",
      "\n",
      "GROCERY DRY GOODS           70402\n",
      "DSD GROCERY                 68332\n",
      "PRODUCE                     51115\n",
      "DAIRY                       43820\n",
      "PERSONAL CARE               41969\n",
      "IMPULSE MERCHANDISE         28712\n",
      "HOUSEHOLD CHEMICALS/SUPP    24880\n",
      "PHARMACY OTC                23306\n",
      "FROZEN FOODS                21101\n",
      "HOUSEHOLD PAPER GOODS       16274\n",
      "COMM BREAD                  15244\n",
      "dtype: int64 \n",
      "\n",
      " GROCERY DRY GOODS           72335\n",
      "DSD GROCERY                 68860\n",
      "PRODUCE                     50928\n",
      "DAIRY                       44824\n",
      "PERSONAL CARE               41607\n",
      "IMPULSE MERCHANDISE         28441\n",
      "HOUSEHOLD CHEMICALS/SUPP    24602\n",
      "PHARMACY OTC                23293\n",
      "FROZEN FOODS                21890\n",
      "COMM BREAD                  15688\n",
      "HOUSEHOLD PAPER GOODS       15642\n",
      "dtype: int64\n"
     ]
    }
   ],
   "source": [
    "print('Пропорции топа различных категорий товаров тоже почти совпадают.\\n')\n",
    "print(tr.DepartmentDescription.value_counts()[:11], '\\n\\n', te.DepartmentDescription.value_counts()[:11])"
   ]
  },
  {
   "cell_type": "code",
   "execution_count": 64,
   "metadata": {
    "collapsed": true
   },
   "outputs": [
    {
     "name": "stdout",
     "output_type": "stream",
     "text": [
      "Топ более узких категорий тоже совпадает примерно.\n",
      "\n",
      "5501    8244\n",
      "1508    5121\n",
      "135     4538\n",
      "808     4401\n",
      "0       3837\n",
      "9546    2997\n",
      "1407    2848\n",
      "4606    2753\n",
      "115     2723\n",
      "203     2639\n",
      "dtype: int64 \n",
      "\n",
      " 5501    8185\n",
      "1508    5189\n",
      "808     4478\n",
      "135     4451\n",
      "0       3705\n",
      "1407    3029\n",
      "9546    2987\n",
      "4606    2716\n",
      "115     2656\n",
      "3004    2628\n",
      "dtype: int64\n"
     ]
    }
   ],
   "source": [
    "print('Топ более узких категорий тоже совпадает примерно.\\n')\n",
    "print(tr.FinelineNumber.value_counts().iloc[:10], '\\n\\n', te.FinelineNumber.value_counts().iloc[:10])"
   ]
  },
  {
   "cell_type": "code",
   "execution_count": 65,
   "metadata": {
    "collapsed": false
   },
   "outputs": [
    {
     "name": "stdout",
     "output_type": "stream",
     "text": [
      "Число категорий в обучающей выборке 68, более узких категорий 5195\n"
     ]
    }
   ],
   "source": [
    "print('Число категорий в обучающей выборке {0}, более узких категорий {1}'.format(tr.DepartmentDescription.nunique(), tr.FinelineNumber.nunique()))"
   ]
  },
  {
   "cell_type": "markdown",
   "metadata": {},
   "source": [
    "# Data aggregation, highly unreadable code"
   ]
  },
  {
   "cell_type": "code",
   "execution_count": 6,
   "metadata": {
    "collapsed": false
   },
   "outputs": [],
   "source": [
    "def popular_in_classes(train, test, class_label, target_label, number_of_values):\n",
    "    def take_popular(x, n, colname):\n",
    "        nval = x[colname].nunique()\n",
    "        if n > nval:\n",
    "            n = nval\n",
    "        return pd.DataFrame({colname: list(x[colname].value_counts().iloc[:n].index),\n",
    "                             'rating': list(range(n))})\n",
    "    popular_df = train.groupby(target_label).apply(lambda x: take_popular(x, number_of_values, class_label))\n",
    "    def get_rating(x, colname):\n",
    "        return pd.Series({colname+'_place': str(x['rating'].min()) + '_' + str(x[colname].iloc[0])})\n",
    "    popular_df = (popular_df.reset_index(drop = True)\n",
    "                     .groupby(class_label)\n",
    "                     .apply(lambda x: get_rating(x, class_label)).reset_index())\n",
    "    popular = [item for sublist in popular_df.values for item in sublist]\n",
    "    popular_df.loc[:, class_label] = popular_df[class_label].apply(lambda x: class_label + '_' + str(x))\n",
    "    popular_df.loc[:, class_label + '_place'] = popular_df[class_label+'_place'].apply(lambda x: class_label + '_'+str(x))\n",
    "    popular_dict = dict(zip(popular_df[class_label], popular_df[class_label+'_place']))\n",
    "    popular = list(set(popular).intersection(set(test[class_label].unique())))\n",
    "    \n",
    "    return popular, popular_dict\n",
    "\n",
    "def get_scan_counts_per_category(tr, te, colname, num):\n",
    "    pop_smth, rename_smth = popular_in_classes(tr, te, colname,'TripType', num)\n",
    "    def get_scans_per_category(df,colname, popular, rename_dict):\n",
    "        dummied = pd.get_dummies(df[df[colname].isin(popular)][[colname, 'VisitNumber']], columns = [colname]).rename(columns = rename_dict)\n",
    "        sc = df[df[colname].isin(pop_smth)]['ScanCount']\n",
    "        collist = list(dummied.columns)\n",
    "        collist.remove('VisitNumber')\n",
    "        dummied[collist] = dummied[collist].astype(np.int8)\n",
    "        sc = sc.astype(np.int8)\n",
    "        for i in range(len(collist)):\n",
    "            dummied[collist[i]] = dummied[collist[i]]*sc\n",
    "        return dummied\n",
    "    dummied_train = get_scans_per_category(tr, colname, pop_smth, rename_smth)\n",
    "    dummied_test = get_scans_per_category(te, colname, pop_smth, rename_smth)\n",
    "    dummied_train = dummied_train.groupby('VisitNumber').sum().reset_index()\n",
    "    dummied_test = dummied_test.groupby('VisitNumber').sum().reset_index()\n",
    "    return dummied_train, dummied_test\n",
    "\n",
    "def aggregate_data(x):\n",
    "    return_dummy = int((x.ScanCount <0).any())\n",
    "    all_return = int((x.ScanCount <0).all())\n",
    "    na_exists = int(pd.isnull(x.Upc).any())\n",
    "    one_return = int(x[x.ScanCount<0].shape == 1)\n",
    "    \n",
    "    to_series_dict = {'num_positions':x[x.ScanCount>0].shape[0],\n",
    "                      'num_goods': x[x.ScanCount>0].ScanCount.sum(),\n",
    "                      'return_dummy': return_dummy,\n",
    "                      'num_cats': x.DepartmentDescription.nunique(),\n",
    "                      'num_returns': x[x.ScanCount<0].shape[0],\n",
    "                      'num_ones': x[x.ScanCount==1].shape[0],\n",
    "                      'num_diff_q': x.ScanCount.nunique(),\n",
    "                      'max_scans': x.ScanCount.max(),\n",
    "                      'all_return': all_return,\n",
    "                      'num_fineline': x.FinelineNumber.nunique(),\n",
    "                      'na_exists': na_exists,\n",
    "                      'num_rare_goods': x.rare_good.sum(),\n",
    "                      'one_return': one_return,\n",
    "                      'percent_ones': x[x.ScanCount == 1].shape[0]/x.shape[0], # Если ходит и покупает тут и там вещи\n",
    "                      'all_different_deps': int(x.DepartmentDescription.nunique() == x.shape[0]), # Покупатель схватил самое необходимое из разных категорий\n",
    "                      'all_different_fineline': int(x.FinelineNumber.nunique() == x.shape[0]),\n",
    "                      'combos': (x[x.ScanCount!=-1].ScanCount.value_counts()>1).sum(), # Покупатель набирает товары по акции (типа купи это и это по сниженной цене), не знаю есть ли такое в уолмарте \n",
    "                      'only_one_good': int((x.shape[0]==1) & (x.ScanCount.iloc[0]>0)), # Одна покупка и не возврат\n",
    "                      'only_fin_services': int((x.DepartmentDescription==\"FINANCIAL SERVICES\").all()), # Потому что категория сильно отличается от других и высоко стоит в РФ важности фичей\n",
    "                      'only_one_dep': int(x[x.ScanCount>0].DepartmentDescription.nunique() == 1),\n",
    "#                       'scancount_variance': x[x.ScanCount>0].ScanCount.std()\n",
    "                      }\n",
    "    return pd.Series(to_series_dict).astype(np.int8)\n",
    "\n",
    "def merge_w_save_space(df1, df2):\n",
    "    temp = pd.concat([df1.set_index('VisitNumber'), df2.set_index('VisitNumber')], axis = 1).fillna(0)\n",
    "    temp.reset_index(inplace = True)\n",
    "    cols = list(temp.columns)\n",
    "    cols.remove('VisitNumber')\n",
    "    temp[cols] = temp[cols].astype(np.int8)\n",
    "    return temp\n",
    "\n",
    "def get_pairs(x, colname, class_label, test=False):\n",
    "    value_list = x[colname].astype(str).unique()\n",
    "    value_list.sort()\n",
    "    if not test:\n",
    "        tt =x[class_label].iloc[0]\n",
    "    else:\n",
    "        tt = -1\n",
    "    record_list = list()\n",
    "    for i in range(len(value_list)-1):\n",
    "        for j in range(i+1, len(value_list)):\n",
    "            record_list.append([tt, str(value_list[i])+str(value_list[j])])\n",
    "    return pd.DataFrame().from_records(record_list, columns = [class_label, '2'+colname])"
   ]
  },
  {
   "cell_type": "code",
   "execution_count": 7,
   "metadata": {
    "collapsed": false
   },
   "outputs": [],
   "source": [
    "from sklearn.preprocessing import LabelEncoder\n",
    "popular_categories = {'Upc': 20,\n",
    "                     'DepartmentDescription':15,\n",
    "                     'FinelineNumber':20}\n",
    "\n",
    "popular_pairs= {'2Upc': 20,\n",
    "                '2DepartmentDescription':20,\n",
    "                '2FinelineNumber':20}\n",
    "\n",
    "temp = tr.Upc.append(te.Upc).value_counts()\n",
    "tr['rare_good'] = 0\n",
    "te['rare_good'] = 0\n",
    "tr.loc[tr.Upc.isin(np.array(temp[temp<3].index)), 'rare_good'] = 1\n",
    "te.loc[te.Upc.isin(np.array(temp[temp<3].index)), 'rare_good'] = 1\n",
    "\n",
    "te_aggregates = te.groupby('VisitNumber').apply(aggregate_data).reset_index()\n",
    "tr_aggregates = tr.groupby('VisitNumber').apply(aggregate_data).reset_index()\n",
    "te_aggregates['ave_position'] = te_aggregates['num_goods'].div(te_aggregates['num_goods'])\n",
    "tr_aggregates['ave_position'] = tr_aggregates['num_goods'].div(tr_aggregates['num_goods'])\n",
    "\n",
    "te_aggregates_1 = te_aggregates.copy()\n",
    "tr_aggregates_1 = tr_aggregates.copy()\n",
    "for i in popular_categories:\n",
    "    temp_train, temp_test = get_scan_counts_per_category(tr, te, i, popular_categories[i])\n",
    "    te_aggregates_1 = merge_w_save_space(te_aggregates_1, temp_test)\n",
    "    tr_aggregates_1 = merge_w_save_space(tr_aggregates_1, temp_train)\n",
    "    \n",
    "for i in popular_pairs:\n",
    "    test_pairs = te.groupby('VisitNumber').apply(lambda x: get_pairs(x, i[1:], 'TripType', True))\n",
    "    train_pairs = tr.groupby('VisitNumber').apply(lambda x: get_pairs(x, i[1:], 'TripType', False))\n",
    "    test_pairs['ScanCount'] = np.int8(1)\n",
    "    train_pairs['ScanCount'] = np.int8(1)\n",
    "    temp_train, temp_test = get_scan_counts_per_category(train_pairs.reset_index(), test_pairs.reset_index(), i, popular_pairs[i])\n",
    "    te_aggregates_1 = merge_w_save_space(te_aggregates_1, temp_test)\n",
    "    tr_aggregates_1 = merge_w_save_space(tr_aggregates_1, temp_train)\n",
    "\n",
    "tr_aggregates_1 = tr_aggregates_1.merge(tr[['VisitNumber', 'TripType']].drop_duplicates(), how = 'left', on = 'VisitNumber')\n",
    "tr_aggregates_1 = tr_aggregates_1.merge(tr[['VisitNumber', 'Weekday']].drop_duplicates(), how = 'left', on = 'VisitNumber')\n",
    "te_aggregates_1 = te_aggregates_1.merge(te[['VisitNumber', 'Weekday']].drop_duplicates(), how = 'left', on = 'VisitNumber')\n",
    "\n",
    "le = LabelEncoder()\n",
    "le.fit(tr_aggregates_1['Weekday'].append(te_aggregates_1['Weekday']))\n",
    "tr_aggregates_1.loc[:, 'Weekday'] = le.transform(tr_aggregates_1['Weekday'])\n",
    "te_aggregates_1.loc[:, 'Weekday'] = le.transform(te_aggregates_1['Weekday'])"
   ]
  },
  {
   "cell_type": "code",
   "execution_count": 8,
   "metadata": {
    "collapsed": true
   },
   "outputs": [],
   "source": [
    "tr_aggregates_1.to_pickle('./Data/tr_aggregates_2')\n",
    "te_aggregates_1.to_pickle('./Data/te_aggregates_2')"
   ]
  }
 ],
 "metadata": {
  "kernelspec": {
   "display_name": "Python 3",
   "language": "python",
   "name": "python3"
  },
  "language_info": {
   "codemirror_mode": {
    "name": "ipython",
    "version": 3
   },
   "file_extension": ".py",
   "mimetype": "text/x-python",
   "name": "python",
   "nbconvert_exporter": "python",
   "pygments_lexer": "ipython3",
   "version": "3.5.1"
  }
 },
 "nbformat": 4,
 "nbformat_minor": 0
}
